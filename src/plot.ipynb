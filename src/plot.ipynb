{
 "cells": [
  {
   "cell_type": "code",
   "execution_count": 8,
   "metadata": {},
   "outputs": [
    {
     "name": "stdout",
     "output_type": "stream",
     "text": [
      "Requirement already satisfied: ipywidgets in c:\\users\\kchuc\\appdata\\local\\packages\\pythonsoftwarefoundation.python.3.11_qbz5n2kfra8p0\\localcache\\local-packages\\python311\\site-packages (8.1.5)Note: you may need to restart the kernel to use updated packages.\n"
     ]
    },
    {
     "name": "stderr",
     "output_type": "stream",
     "text": [
      "\n",
      "[notice] A new release of pip is available: 24.0 -> 25.0.1\n",
      "[notice] To update, run: C:\\Users\\kchuc\\AppData\\Local\\Microsoft\\WindowsApps\\PythonSoftwareFoundation.Python.3.11_qbz5n2kfra8p0\\python.exe -m pip install --upgrade pip\n"
     ]
    },
    {
     "name": "stdout",
     "output_type": "stream",
     "text": [
      "\n",
      "Requirement already satisfied: comm>=0.1.3 in c:\\users\\kchuc\\appdata\\local\\packages\\pythonsoftwarefoundation.python.3.11_qbz5n2kfra8p0\\localcache\\local-packages\\python311\\site-packages (from ipywidgets) (0.2.0)\n",
      "Requirement already satisfied: ipython>=6.1.0 in c:\\users\\kchuc\\appdata\\local\\packages\\pythonsoftwarefoundation.python.3.11_qbz5n2kfra8p0\\localcache\\local-packages\\python311\\site-packages (from ipywidgets) (8.17.2)\n",
      "Requirement already satisfied: traitlets>=4.3.1 in c:\\users\\kchuc\\appdata\\local\\packages\\pythonsoftwarefoundation.python.3.11_qbz5n2kfra8p0\\localcache\\local-packages\\python311\\site-packages (from ipywidgets) (5.13.0)\n",
      "Requirement already satisfied: widgetsnbextension~=4.0.12 in c:\\users\\kchuc\\appdata\\local\\packages\\pythonsoftwarefoundation.python.3.11_qbz5n2kfra8p0\\localcache\\local-packages\\python311\\site-packages (from ipywidgets) (4.0.13)\n",
      "Requirement already satisfied: jupyterlab-widgets~=3.0.12 in c:\\users\\kchuc\\appdata\\local\\packages\\pythonsoftwarefoundation.python.3.11_qbz5n2kfra8p0\\localcache\\local-packages\\python311\\site-packages (from ipywidgets) (3.0.13)\n",
      "Requirement already satisfied: decorator in c:\\users\\kchuc\\appdata\\local\\packages\\pythonsoftwarefoundation.python.3.11_qbz5n2kfra8p0\\localcache\\local-packages\\python311\\site-packages (from ipython>=6.1.0->ipywidgets) (5.1.1)\n",
      "Requirement already satisfied: jedi>=0.16 in c:\\users\\kchuc\\appdata\\local\\packages\\pythonsoftwarefoundation.python.3.11_qbz5n2kfra8p0\\localcache\\local-packages\\python311\\site-packages (from ipython>=6.1.0->ipywidgets) (0.19.1)\n",
      "Requirement already satisfied: matplotlib-inline in c:\\users\\kchuc\\appdata\\local\\packages\\pythonsoftwarefoundation.python.3.11_qbz5n2kfra8p0\\localcache\\local-packages\\python311\\site-packages (from ipython>=6.1.0->ipywidgets) (0.1.6)\n",
      "Requirement already satisfied: prompt-toolkit!=3.0.37,<3.1.0,>=3.0.30 in c:\\users\\kchuc\\appdata\\local\\packages\\pythonsoftwarefoundation.python.3.11_qbz5n2kfra8p0\\localcache\\local-packages\\python311\\site-packages (from ipython>=6.1.0->ipywidgets) (3.0.41)\n",
      "Requirement already satisfied: pygments>=2.4.0 in c:\\users\\kchuc\\appdata\\local\\packages\\pythonsoftwarefoundation.python.3.11_qbz5n2kfra8p0\\localcache\\local-packages\\python311\\site-packages (from ipython>=6.1.0->ipywidgets) (2.16.1)\n",
      "Requirement already satisfied: stack-data in c:\\users\\kchuc\\appdata\\local\\packages\\pythonsoftwarefoundation.python.3.11_qbz5n2kfra8p0\\localcache\\local-packages\\python311\\site-packages (from ipython>=6.1.0->ipywidgets) (0.6.3)\n",
      "Requirement already satisfied: colorama in c:\\users\\kchuc\\appdata\\local\\packages\\pythonsoftwarefoundation.python.3.11_qbz5n2kfra8p0\\localcache\\local-packages\\python311\\site-packages (from ipython>=6.1.0->ipywidgets) (0.4.6)\n",
      "Requirement already satisfied: parso<0.9.0,>=0.8.3 in c:\\users\\kchuc\\appdata\\local\\packages\\pythonsoftwarefoundation.python.3.11_qbz5n2kfra8p0\\localcache\\local-packages\\python311\\site-packages (from jedi>=0.16->ipython>=6.1.0->ipywidgets) (0.8.3)\n",
      "Requirement already satisfied: wcwidth in c:\\users\\kchuc\\appdata\\local\\packages\\pythonsoftwarefoundation.python.3.11_qbz5n2kfra8p0\\localcache\\local-packages\\python311\\site-packages (from prompt-toolkit!=3.0.37,<3.1.0,>=3.0.30->ipython>=6.1.0->ipywidgets) (0.2.10)\n",
      "Requirement already satisfied: executing>=1.2.0 in c:\\users\\kchuc\\appdata\\local\\packages\\pythonsoftwarefoundation.python.3.11_qbz5n2kfra8p0\\localcache\\local-packages\\python311\\site-packages (from stack-data->ipython>=6.1.0->ipywidgets) (2.0.1)\n",
      "Requirement already satisfied: asttokens>=2.1.0 in c:\\users\\kchuc\\appdata\\local\\packages\\pythonsoftwarefoundation.python.3.11_qbz5n2kfra8p0\\localcache\\local-packages\\python311\\site-packages (from stack-data->ipython>=6.1.0->ipywidgets) (2.4.1)\n",
      "Requirement already satisfied: pure-eval in c:\\users\\kchuc\\appdata\\local\\packages\\pythonsoftwarefoundation.python.3.11_qbz5n2kfra8p0\\localcache\\local-packages\\python311\\site-packages (from stack-data->ipython>=6.1.0->ipywidgets) (0.2.2)\n",
      "Requirement already satisfied: six>=1.12.0 in c:\\users\\kchuc\\appdata\\local\\packages\\pythonsoftwarefoundation.python.3.11_qbz5n2kfra8p0\\localcache\\local-packages\\python311\\site-packages (from asttokens>=2.1.0->stack-data->ipython>=6.1.0->ipywidgets) (1.16.0)\n"
     ]
    }
   ],
   "source": [
    "%pip install ipywidgets\n",
    "\n",
    "import numpy as np\n",
    "import plotly.graph_objects as go\n",
    "import plotly.io as pio\n",
    "from ipywidgets import interact\n",
    "\n"
   ]
  },
  {
   "cell_type": "code",
   "execution_count": 9,
   "metadata": {},
   "outputs": [],
   "source": [
    "import pandas as pd\n"
   ]
  },
  {
   "cell_type": "code",
   "execution_count": 10,
   "metadata": {},
   "outputs": [
    {
     "name": "stdout",
     "output_type": "stream",
     "text": [
      "Requirement already satisfied: openpyxl in c:\\users\\kchuc\\appdata\\local\\packages\\pythonsoftwarefoundation.python.3.11_qbz5n2kfra8p0\\localcache\\local-packages\\python311\\site-packages (3.1.5)\n",
      "Requirement already satisfied: et-xmlfile in c:\\users\\kchuc\\appdata\\local\\packages\\pythonsoftwarefoundation.python.3.11_qbz5n2kfra8p0\\localcache\\local-packages\\python311\\site-packages (from openpyxl) (2.0.0)\n",
      "Note: you may need to restart the kernel to use updated packages.\n"
     ]
    },
    {
     "name": "stderr",
     "output_type": "stream",
     "text": [
      "\n",
      "[notice] A new release of pip is available: 24.0 -> 25.0.1\n",
      "[notice] To update, run: C:\\Users\\kchuc\\AppData\\Local\\Microsoft\\WindowsApps\\PythonSoftwareFoundation.Python.3.11_qbz5n2kfra8p0\\python.exe -m pip install --upgrade pip\n"
     ]
    }
   ],
   "source": [
    "%pip install openpyxl"
   ]
  },
  {
   "cell_type": "code",
   "execution_count": 65,
   "metadata": {},
   "outputs": [
    {
     "data": {
      "application/vnd.plotly.v1+json": {
       "config": {
        "plotlyServerURL": "https://plot.ly"
       },
       "data": [
        {
         "line": {
          "color": "rgb(0, 0, 255)",
          "width": 10
         },
         "marker": {
          "color": "rgb(0, 0, 255)",
          "size": 6
         },
         "mode": "lines+markers",
         "type": "scatter3d",
         "x": [
          -25,
          -25
         ],
         "y": [
          0,
          0
         ],
         "z": [
          0,
          -1
         ]
        },
        {
         "colorscale": [
          [
           0,
           "rgb(0, 0, 255)"
          ],
          [
           1,
           "rgb(0, 0, 255)"
          ]
         ],
         "showscale": false,
         "sizemode": "absolute",
         "sizeref": 0.2,
         "type": "cone",
         "u": [
          0
         ],
         "v": [
          0
         ],
         "w": [
          -1
         ],
         "x": [
          -25
         ],
         "y": [
          0
         ],
         "z": [
          -1
         ]
        },
        {
         "line": {
          "color": "rgb(254, 0, 0)",
          "width": 10
         },
         "marker": {
          "color": "rgb(254, 0, 0)",
          "size": 6
         },
         "mode": "lines+markers",
         "type": "scatter3d",
         "x": [
          -23.979591836734695,
          -23.979979264929028
         ],
         "y": [
          0,
          -0.06479935270847112
         ],
         "z": [
          0,
          0.9978982381926312
         ]
        },
        {
         "colorscale": [
          [
           0,
           "rgb(254, 0, 0)"
          ],
          [
           1,
           "rgb(254, 0, 0)"
          ]
         ],
         "showscale": false,
         "sizemode": "absolute",
         "sizeref": 0.2,
         "type": "cone",
         "u": [
          -0.00038742819433336596
         ],
         "v": [
          -0.06479935270847112
         ],
         "w": [
          0.9978982381926312
         ],
         "x": [
          -23.979979264929028
         ],
         "y": [
          -0.06479935270847112
         ],
         "z": [
          0.9978982381926312
         ]
        },
        {
         "line": {
          "color": "rgb(1, 0, 253)",
          "width": 10
         },
         "marker": {
          "color": "rgb(1, 0, 253)",
          "size": 6
         },
         "mode": "lines+markers",
         "type": "scatter3d",
         "x": [
          -22.959183673469386,
          -22.958418278574687
         ],
         "y": [
          0,
          0.12801546965896227
         ],
         "z": [
          0,
          -0.9917718758356936
         ]
        },
        {
         "colorscale": [
          [
           0,
           "rgb(1, 0, 253)"
          ],
          [
           1,
           "rgb(1, 0, 253)"
          ]
         ],
         "showscale": false,
         "sizemode": "absolute",
         "sizeref": 0.2,
         "type": "cone",
         "u": [
          0.0007653948946984158
         ],
         "v": [
          0.12801546965896227
         ],
         "w": [
          -0.9917718758356936
         ],
         "x": [
          -22.958418278574687
         ],
         "y": [
          0.12801546965896227
         ],
         "z": [
          -0.9917718758356936
         ]
        },
        {
         "line": {
          "color": "rgb(252, 0, 2)",
          "width": 10
         },
         "marker": {
          "color": "rgb(252, 0, 2)",
          "size": 6
         },
         "mode": "lines+markers",
         "type": "scatter3d",
         "x": [
          -21.93877551020408,
          -21.93993109912738
         ],
         "y": [
          0,
          -0.19327813143520226
         ],
         "z": [
          0,
          0.9811433272071707
         ]
        },
        {
         "colorscale": [
          [
           0,
           "rgb(252, 0, 2)"
          ],
          [
           1,
           "rgb(252, 0, 2)"
          ]
         ],
         "showscale": false,
         "sizemode": "absolute",
         "sizeref": 0.2,
         "type": "cone",
         "u": [
          -0.0011555889232988086
         ],
         "v": [
          -0.19327813143520226
         ],
         "w": [
          0.9811433272071707
         ],
         "x": [
          -21.93993109912738
         ],
         "y": [
          -0.19327813143520226
         ],
         "z": [
          0.9811433272071707
         ]
        },
        {
         "line": {
          "color": "rgb(4, 0, 250)",
          "width": 10
         },
         "marker": {
          "color": "rgb(4, 0, 250)",
          "size": 6
         },
         "mode": "lines+markers",
         "type": "scatter3d",
         "x": [
          -20.918367346938776,
          -20.916849391940538
         ],
         "y": [
          0,
          0.25388421980753506
         ],
         "z": [
          0,
          -0.9672334251592749
         ]
        },
        {
         "colorscale": [
          [
           0,
           "rgb(4, 0, 250)"
          ],
          [
           1,
           "rgb(4, 0, 250)"
          ]
         ],
         "showscale": false,
         "sizemode": "absolute",
         "sizeref": 0.2,
         "type": "cone",
         "u": [
          0.001517954998238078
         ],
         "v": [
          0.25388421980753506
         ],
         "w": [
          -0.9672334251592749
         ],
         "x": [
          -20.916849391940538
         ],
         "y": [
          0.25388421980753506
         ],
         "z": [
          -0.9672334251592749
         ]
        },
        {
         "line": {
          "color": "rgb(248, 0, 6)",
          "width": 10
         },
         "marker": {
          "color": "rgb(248, 0, 6)",
          "size": 6
         },
         "mode": "lines+markers",
         "type": "scatter3d",
         "x": [
          -19.89795918367347,
          -19.89986299823334
         ],
         "y": [
          0,
          -0.31842254037326667
         ],
         "z": [
          0,
          0.9479469717617948
         ]
        },
        {
         "colorscale": [
          [
           0,
           "rgb(248, 0, 6)"
          ],
          [
           1,
           "rgb(248, 0, 6)"
          ]
         ],
         "showscale": false,
         "sizemode": "absolute",
         "sizeref": 0.2,
         "type": "cone",
         "u": [
          -0.001903814559868042
         ],
         "v": [
          -0.31842254037326667
         ],
         "w": [
          0.9479469717617948
         ],
         "x": [
          -19.89986299823334
         ],
         "y": [
          -0.31842254037326667
         ],
         "z": [
          0.9479469717617948
         ]
        },
        {
         "line": {
          "color": "rgb(9, 0, 245)",
          "width": 10
         },
         "marker": {
          "color": "rgb(9, 0, 245)",
          "size": 6
         },
         "mode": "lines+markers",
         "type": "scatter3d",
         "x": [
          -18.877551020408163,
          -18.87530590953501
         ],
         "y": [
          0,
          0.3755039216889036
         ],
         "z": [
          0,
          -0.9268180858579643
         ]
        },
        {
         "colorscale": [
          [
           0,
           "rgb(9, 0, 245)"
          ],
          [
           1,
           "rgb(9, 0, 245)"
          ]
         ],
         "showscale": false,
         "sizemode": "absolute",
         "sizeref": 0.2,
         "type": "cone",
         "u": [
          0.002245110873152343
         ],
         "v": [
          0.3755039216889036
         ],
         "w": [
          -0.9268180858579643
         ],
         "x": [
          -18.87530590953501
         ],
         "y": [
          0.3755039216889036
         ],
         "z": [
          -0.9268180858579643
         ]
        },
        {
         "line": {
          "color": "rgb(242, 0, 12)",
          "width": 10
         },
         "marker": {
          "color": "rgb(242, 0, 12)",
          "size": 6
         },
         "mode": "lines+markers",
         "type": "scatter3d",
         "x": [
          -17.857142857142858,
          -17.859762170079286
         ],
         "y": [
          0,
          -0.43809296220881694
         ],
         "z": [
          0,
          0.8989258565993332
         ]
        },
        {
         "colorscale": [
          [
           0,
           "rgb(242, 0, 12)"
          ],
          [
           1,
           "rgb(242, 0, 12)"
          ]
         ],
         "showscale": false,
         "sizemode": "absolute",
         "sizeref": 0.2,
         "type": "cone",
         "u": [
          -0.0026193129364291043
         ],
         "v": [
          -0.43809296220881694
         ],
         "w": [
          0.8989258565993332
         ],
         "x": [
          -17.859762170079286
         ],
         "y": [
          -0.43809296220881694
         ],
         "z": [
          0.8989258565993332
         ]
        },
        {
         "line": {
          "color": "rgb(16, 0, 238)",
          "width": 10
         },
         "marker": {
          "color": "rgb(16, 0, 238)",
          "size": 6
         },
         "mode": "lines+markers",
         "type": "scatter3d",
         "x": [
          -16.836734693877553,
          -16.833799883603486
         ],
         "y": [
          0,
          0.490858766041759
         ],
         "z": [
          0,
          -0.8712342157471875
         ]
        },
        {
         "colorscale": [
          [
           0,
           "rgb(16, 0, 238)"
          ],
          [
           1,
           "rgb(16, 0, 238)"
          ]
         ],
         "showscale": false,
         "sizemode": "absolute",
         "sizeref": 0.2,
         "type": "cone",
         "u": [
          0.002934810274066609
         ],
         "v": [
          0.490858766041759
         ],
         "w": [
          -0.8712342157471875
         ],
         "x": [
          -16.833799883603486
         ],
         "y": [
          0.490858766041759
         ],
         "z": [
          -0.8712342157471875
         ]
        },
        {
         "line": {
          "color": "rgb(233, 0, 21)",
          "width": 10
         },
         "marker": {
          "color": "rgb(233, 0, 21)",
          "size": 6
         },
         "mode": "lines+markers",
         "type": "scatter3d",
         "x": [
          -15.816326530612244,
          -15.819616541022265
         ],
         "y": [
          0,
          -0.5502699842317609
         ],
         "z": [
          0,
          0.8349803113158295
         ]
        },
        {
         "colorscale": [
          [
           0,
           "rgb(233, 0, 21)"
          ],
          [
           1,
           "rgb(233, 0, 21)"
          ]
         ],
         "showscale": false,
         "sizemode": "absolute",
         "sizeref": 0.2,
         "type": "cone",
         "u": [
          -0.0032900104100215817
         ],
         "v": [
          -0.5502699842317609
         ],
         "w": [
          0.8349803113158295
         ],
         "x": [
          -15.819616541022265
         ],
         "y": [
          -0.5502699842317609
         ],
         "z": [
          0.8349803113158295
         ]
        },
        {
         "line": {
          "color": "rgb(25, 0, 229)",
          "width": 10
         },
         "marker": {
          "color": "rgb(25, 0, 229)",
          "size": 6
         },
         "mode": "lines+markers",
         "type": "scatter3d",
         "x": [
          -14.795918367346939,
          -14.792342622673665
         ],
         "y": [
          0,
          0.598057355371699
         ],
         "z": [
          0,
          -0.8014453279768001
         ]
        },
        {
         "colorscale": [
          [
           0,
           "rgb(25, 0, 229)"
          ],
          [
           1,
           "rgb(25, 0, 229)"
          ]
         ],
         "showscale": false,
         "sizemode": "absolute",
         "sizeref": 0.2,
         "type": "cone",
         "u": [
          0.003575744673273488
         ],
         "v": [
          0.598057355371699
         ],
         "w": [
          -0.8014453279768001
         ],
         "x": [
          -14.792342622673665
         ],
         "y": [
          0.598057355371699
         ],
         "z": [
          -0.8014453279768001
         ]
        },
        {
         "line": {
          "color": "rgb(224, 0, 30)",
          "width": 10
         },
         "marker": {
          "color": "rgb(224, 0, 30)",
          "size": 6
         },
         "mode": "lines+markers",
         "type": "scatter3d",
         "x": [
          -13.775510204081632,
          -13.779414990371093
         ],
         "y": [
          0,
          -0.6530936127410855
         ],
         "z": [
          0,
          0.7572671164396554
         ]
        },
        {
         "colorscale": [
          [
           0,
           "rgb(224, 0, 30)"
          ],
          [
           1,
           "rgb(224, 0, 30)"
          ]
         ],
         "showscale": false,
         "sizemode": "absolute",
         "sizeref": 0.2,
         "type": "cone",
         "u": [
          -0.003904786289461346
         ],
         "v": [
          -0.6530936127410855
         ],
         "w": [
          0.7572671164396554
         ],
         "x": [
          -13.779414990371093
         ],
         "y": [
          -0.6530936127410855
         ],
         "z": [
          0.7572671164396554
         ]
        },
        {
         "line": {
          "color": "rgb(35, 0, 219)",
          "width": 10
         },
         "marker": {
          "color": "rgb(35, 0, 219)",
          "size": 6
         },
         "mode": "lines+markers",
         "type": "scatter3d",
         "x": [
          -12.755102040816325,
          -12.750944498998923
         ],
         "y": [
          0,
          0.6953649111688653
         ],
         "z": [
          0,
          -0.7186448045878802
         ]
        },
        {
         "colorscale": [
          [
           0,
           "rgb(35, 0, 219)"
          ],
          [
           1,
           "rgb(35, 0, 219)"
          ]
         ],
         "showscale": false,
         "sizemode": "absolute",
         "sizeref": 0.2,
         "type": "cone",
         "u": [
          0.004157541817403305
         ],
         "v": [
          0.6953649111688653
         ],
         "w": [
          -0.7186448045878802
         ],
         "x": [
          -12.750944498998923
         ],
         "y": [
          0.6953649111688653
         ],
         "z": [
          -0.7186448045878802
         ]
        },
        {
         "line": {
          "color": "rgb(212, 0, 42)",
          "width": 10
         },
         "marker": {
          "color": "rgb(212, 0, 42)",
          "size": 6
         },
         "mode": "lines+markers",
         "type": "scatter3d",
         "x": [
          -11.73469387755102,
          -11.739147539698207
         ],
         "y": [
          0,
          -0.7448949370092951
         ],
         "z": [
          0,
          0.6671669189276377
         ]
        },
        {
         "colorscale": [
          [
           0,
           "rgb(212, 0, 42)"
          ],
          [
           1,
           "rgb(212, 0, 42)"
          ]
         ],
         "showscale": false,
         "sizemode": "absolute",
         "sizeref": 0.2,
         "type": "cone",
         "u": [
          -0.004453662147187283
         ],
         "v": [
          -0.7448949370092951
         ],
         "w": [
          0.6671669189276377
         ],
         "x": [
          -11.739147539698207
         ],
         "y": [
          -0.7448949370092951
         ],
         "z": [
          0.6671669189276377
         ]
        },
        {
         "line": {
          "color": "rgb(47, 0, 207)",
          "width": 10
         },
         "marker": {
          "color": "rgb(47, 0, 207)",
          "size": 6
         },
         "mode": "lines+markers",
         "type": "scatter3d",
         "x": [
          -10.714285714285714,
          -10.709614794586361
         ],
         "y": [
          0,
          0.7812290238136452
         ],
         "z": [
          0,
          -0.6242270379119613
         ]
        },
        {
         "colorscale": [
          [
           0,
           "rgb(47, 0, 207)"
          ],
          [
           1,
           "rgb(47, 0, 207)"
          ]
         ],
         "showscale": false,
         "sizemode": "absolute",
         "sizeref": 0.2,
         "type": "cone",
         "u": [
          0.004670919699352832
         ],
         "v": [
          0.7812290238136452
         ],
         "w": [
          -0.6242270379119613
         ],
         "x": [
          -10.709614794586361
         ],
         "y": [
          0.7812290238136452
         ],
         "z": [
          -0.6242270379119613
         ]
        },
        {
         "line": {
          "color": "rgb(199, 0, 55)",
          "width": 10
         },
         "marker": {
          "color": "rgb(199, 0, 55)",
          "size": 6
         },
         "mode": "lines+markers",
         "type": "scatter3d",
         "x": [
          -9.693877551020408,
          -9.698805493864038
         ],
         "y": [
          0,
          -0.824219712269636
         ],
         "z": [
          0,
          0.5662486920828059
         ]
        },
        {
         "colorscale": [
          [
           0,
           "rgb(199, 0, 55)"
          ],
          [
           1,
           "rgb(199, 0, 55)"
          ]
         ],
         "showscale": false,
         "sizemode": "absolute",
         "sizeref": 0.2,
         "type": "cone",
         "u": [
          -0.004927942843629012
         ],
         "v": [
          -0.824219712269636
         ],
         "w": [
          0.5662486920828059
         ],
         "x": [
          -9.698805493864038
         ],
         "y": [
          -0.824219712269636
         ],
         "z": [
          0.5662486920828059
         ]
        },
        {
         "line": {
          "color": "rgb(61, 0, 193)",
          "width": 10
         },
         "marker": {
          "color": "rgb(61, 0, 193)",
          "size": 6
         },
         "mode": "lines+markers",
         "type": "scatter3d",
         "x": [
          -8.673469387755102,
          -8.668361586133978
         ],
         "y": [
          0,
          0.8542988912838118
         ],
         "z": [
          0,
          -0.5197569765898763
         ]
        },
        {
         "colorscale": [
          [
           0,
           "rgb(61, 0, 193)"
          ],
          [
           1,
           "rgb(61, 0, 193)"
          ]
         ],
         "showscale": false,
         "sizemode": "absolute",
         "sizeref": 0.2,
         "type": "cone",
         "u": [
          0.005107801621124121
         ],
         "v": [
          0.8542988912838118
         ],
         "w": [
          -0.5197569765898763
         ],
         "x": [
          -8.668361586133978
         ],
         "y": [
          0.8542988912838118
         ],
         "z": [
          -0.5197569765898763
         ]
        },
        {
         "line": {
          "color": "rgb(185, 0, 69)",
          "width": 10
         },
         "marker": {
          "color": "rgb(185, 0, 69)",
          "size": 6
         },
         "mode": "lines+markers",
         "type": "scatter3d",
         "x": [
          -7.653061224489797,
          -7.6583815355691165
         ],
         "y": [
          0,
          -0.8898441660352499
         ],
         "z": [
          0,
          0.45623355253975995
         ]
        },
        {
         "colorscale": [
          [
           0,
           "rgb(185, 0, 69)"
          ],
          [
           1,
           "rgb(185, 0, 69)"
          ]
         ],
         "showscale": false,
         "sizemode": "absolute",
         "sizeref": 0.2,
         "type": "cone",
         "u": [
          -0.005320311079320032
         ],
         "v": [
          -0.8898441660352499
         ],
         "w": [
          0.45623355253975995
         ],
         "x": [
          -7.6583815355691165
         ],
         "y": [
          -0.8898441660352499
         ],
         "z": [
          0.45623355253975995
         ]
        },
        {
         "line": {
          "color": "rgb(75, 0, 179)",
          "width": 10
         },
         "marker": {
          "color": "rgb(75, 0, 179)",
          "size": 6
         },
         "mode": "lines+markers",
         "type": "scatter3d",
         "x": [
          -6.632653061224488,
          -6.627191665305173
         ],
         "y": [
          0,
          0.9134386449448185
         ],
         "z": [
          0,
          -0.4069398175111232
         ]
        },
        {
         "colorscale": [
          [
           0,
           "rgb(75, 0, 179)"
          ],
          [
           1,
           "rgb(75, 0, 179)"
          ]
         ],
         "showscale": false,
         "sizemode": "absolute",
         "sizeref": 0.2,
         "type": "cone",
         "u": [
          0.005461395919315531
         ],
         "v": [
          0.9134386449448185
         ],
         "w": [
          -0.4069398175111232
         ],
         "x": [
          -6.627191665305173
         ],
         "y": [
          0.9134386449448185
         ],
         "z": [
          -0.4069398175111232
         ]
        },
        {
         "line": {
          "color": "rgb(170, 0, 84)",
          "width": 10
         },
         "marker": {
          "color": "rgb(170, 0, 84)",
          "size": 6
         },
         "mode": "lines+markers",
         "type": "scatter3d",
         "x": [
          -5.612244897959183,
          -5.617869779399979
         ],
         "y": [
          0,
          -0.9407840268366269
         ],
         "z": [
          0,
          0.33895984357713776
         ]
        },
        {
         "colorscale": [
          [
           0,
           "rgb(170, 0, 84)"
          ],
          [
           1,
           "rgb(170, 0, 84)"
          ]
         ],
         "showscale": false,
         "sizemode": "absolute",
         "sizeref": 0.2,
         "type": "cone",
         "u": [
          -0.005624881440795569
         ],
         "v": [
          -0.9407840268366269
         ],
         "w": [
          0.33895984357713776
         ],
         "x": [
          -5.617869779399979
         ],
         "y": [
          -0.9407840268366269
         ],
         "z": [
          0.33895984357713776
         ]
        },
        {
         "line": {
          "color": "rgb(90, 0, 164)",
          "width": 10
         },
         "marker": {
          "color": "rgb(90, 0, 164)",
          "size": 6
         },
         "mode": "lines+markers",
         "type": "scatter3d",
         "x": [
          -4.591836734693878,
          -4.58611048780539
         ],
         "y": [
          0,
          0.9577358567432487
         ],
         "z": [
          0,
          -0.2875921396784821
         ]
        },
        {
         "colorscale": [
          [
           0,
           "rgb(90, 0, 164)"
          ],
          [
           1,
           "rgb(90, 0, 164)"
          ]
         ],
         "showscale": false,
         "sizemode": "absolute",
         "sizeref": 0.2,
         "type": "cone",
         "u": [
          0.005726246888487177
         ],
         "v": [
          0.9577358567432487
         ],
         "w": [
          -0.2875921396784821
         ],
         "x": [
          -4.58611048780539
         ],
         "y": [
          0.9577358567432487
         ],
         "z": [
          -0.2875921396784821
         ]
        },
        {
         "line": {
          "color": "rgb(155, 0, 99)",
          "width": 10
         },
         "marker": {
          "color": "rgb(155, 0, 99)",
          "size": 6
         },
         "mode": "lines+markers",
         "type": "scatter3d",
         "x": [
          -3.5714285714285694,
          -3.5772657941378014
         ],
         "y": [
          0,
          -0.9762982435890242
         ],
         "z": [
          0,
          0.21635079476634533
         ]
        },
        {
         "colorscale": [
          [
           0,
           "rgb(155, 0, 99)"
          ],
          [
           1,
           "rgb(155, 0, 99)"
          ]
         ],
         "showscale": false,
         "sizemode": "absolute",
         "sizeref": 0.2,
         "type": "cone",
         "u": [
          -0.005837222709232087
         ],
         "v": [
          -0.9762982435890242
         ],
         "w": [
          0.21635079476634533
         ],
         "x": [
          -3.5772657941378014
         ],
         "y": [
          -0.9762982435890242
         ],
         "z": [
          0.21635079476634533
         ]
        },
        {
         "line": {
          "color": "rgb(106, 0, 148)",
          "width": 10
         },
         "marker": {
          "color": "rgb(106, 0, 148)",
          "size": 6
         },
         "mode": "lines+markers",
         "type": "scatter3d",
         "x": [
          -2.5510204081632644,
          -2.545122143050396
         ],
         "y": [
          0,
          0.9865066025052299
         ],
         "z": [
          0,
          -0.16361520003424695
         ]
        },
        {
         "colorscale": [
          [
           0,
           "rgb(106, 0, 148)"
          ],
          [
           1,
           "rgb(106, 0, 148)"
          ]
         ],
         "showscale": false,
         "sizemode": "absolute",
         "sizeref": 0.2,
         "type": "cone",
         "u": [
          0.005898265112868237
         ],
         "v": [
          0.9865066025052299
         ],
         "w": [
          -0.16361520003424695
         ],
         "x": [
          -2.545122143050396
         ],
         "y": [
          0.9865066025052299
         ],
         "z": [
          -0.16361520003424695
         ]
        },
        {
         "line": {
          "color": "rgb(139, 0, 115)",
          "width": 10
         },
         "marker": {
          "color": "rgb(139, 0, 115)",
          "size": 6
         },
         "mode": "lines+markers",
         "type": "scatter3d",
         "x": [
          -1.5306122448979593,
          -1.5365666032992966
         ],
         "y": [
          0,
          -0.9958890646860539
         ],
         "z": [
          0,
          0.09038537743885801
         ]
        },
        {
         "colorscale": [
          [
           0,
           "rgb(139, 0, 115)"
          ],
          [
           1,
           "rgb(139, 0, 115)"
          ]
         ],
         "showscale": false,
         "sizemode": "absolute",
         "sizeref": 0.2,
         "type": "cone",
         "u": [
          -0.005954358401337208
         ],
         "v": [
          -0.9958890646860539
         ],
         "w": [
          0.09038537743885801
         ],
         "x": [
          -1.5365666032992966
         ],
         "y": [
          -0.9958890646860539
         ],
         "z": [
          0.09038537743885801
         ]
        },
        {
         "line": {
          "color": "rgb(122, 0, 132)",
          "width": 10
         },
         "marker": {
          "color": "rgb(122, 0, 132)",
          "size": 6
         },
         "mode": "lines+markers",
         "type": "scatter3d",
         "x": [
          -0.5102040816326507,
          -0.504229335974392
         ],
         "y": [
          0,
          0.9992984963957261
         ],
         "z": [
          0,
          -0.036970495203068214
         ]
        },
        {
         "colorscale": [
          [
           0,
           "rgb(122, 0, 132)"
          ],
          [
           1,
           "rgb(122, 0, 132)"
          ]
         ],
         "showscale": false,
         "sizemode": "absolute",
         "sizeref": 0.2,
         "type": "cone",
         "u": [
          0.0059747456582586855
         ],
         "v": [
          0.9992984963957261
         ],
         "w": [
          -0.036970495203068214
         ],
         "x": [
          -0.504229335974392
         ],
         "y": [
          0.9992984963957261
         ],
         "z": [
          -0.036970495203068214
         ]
        },
        {
         "line": {
          "color": "rgb(122, 0, 132)",
          "width": 10
         },
         "marker": {
          "color": "rgb(122, 0, 132)",
          "size": 6
         },
         "mode": "lines+markers",
         "type": "scatter3d",
         "x": [
          0.5102040816326543,
          0.504229326522007
         ],
         "y": [
          0,
          -0.9993000786464137
         ],
         "z": [
          0,
          -0.03692770123686471
         ]
        },
        {
         "colorscale": [
          [
           0,
           "rgb(122, 0, 132)"
          ],
          [
           1,
           "rgb(122, 0, 132)"
          ]
         ],
         "showscale": false,
         "sizemode": "absolute",
         "sizeref": 0.2,
         "type": "cone",
         "u": [
          -0.005974755110647236
         ],
         "v": [
          -0.9993000786464137
         ],
         "w": [
          -0.03692770123686471
         ],
         "x": [
          0.504229326522007
         ],
         "y": [
          -0.9993000786464137
         ],
         "z": [
          -0.03692770123686471
         ]
        },
        {
         "line": {
          "color": "rgb(139, 0, 115)",
          "width": 10
         },
         "marker": {
          "color": "rgb(139, 0, 115)",
          "size": 6
         },
         "mode": "lines+markers",
         "type": "scatter3d",
         "x": [
          1.5306122448979593,
          1.5365666263363773
         ],
         "y": [
          0,
          0.9958929211186931
         ],
         "z": [
          0,
          0.09034287469060583
         ]
        },
        {
         "colorscale": [
          [
           0,
           "rgb(139, 0, 115)"
          ],
          [
           1,
           "rgb(139, 0, 115)"
          ]
         ],
         "showscale": false,
         "sizemode": "absolute",
         "sizeref": 0.2,
         "type": "cone",
         "u": [
          0.005954381438418042
         ],
         "v": [
          0.9958929211186931
         ],
         "w": [
          0.09034287469060583
         ],
         "x": [
          1.5365666263363773
         ],
         "y": [
          0.9958929211186931
         ],
         "z": [
          0.09034287469060583
         ]
        },
        {
         "line": {
          "color": "rgb(106, 0, 148)",
          "width": 10
         },
         "marker": {
          "color": "rgb(106, 0, 148)",
          "size": 6
         },
         "mode": "lines+markers",
         "type": "scatter3d",
         "x": [
          2.5510204081632644,
          2.545122101736459
         ],
         "y": [
          0,
          -0.9865135183259799
         ],
         "z": [
          0,
          -0.1635734946175323
         ]
        },
        {
         "colorscale": [
          [
           0,
           "rgb(106, 0, 148)"
          ],
          [
           1,
           "rgb(106, 0, 148)"
          ]
         ],
         "showscale": false,
         "sizemode": "absolute",
         "sizeref": 0.2,
         "type": "cone",
         "u": [
          -0.005898306426805656
         ],
         "v": [
          -0.9865135183259799
         ],
         "w": [
          -0.1635734946175323
         ],
         "x": [
          2.545122101736459
         ],
         "y": [
          -0.9865135183259799
         ],
         "z": [
          -0.1635734946175323
         ]
        },
        {
         "line": {
          "color": "rgb(155, 0, 99)",
          "width": 10
         },
         "marker": {
          "color": "rgb(155, 0, 99)",
          "size": 6
         },
         "mode": "lines+markers",
         "type": "scatter3d",
         "x": [
          3.571428571428573,
          3.57726584820423
         ],
         "y": [
          0,
          0.9763072942847668
         ],
         "z": [
          0,
          0.21630994735841966
         ]
        },
        {
         "colorscale": [
          [
           0,
           "rgb(155, 0, 99)"
          ],
          [
           1,
           "rgb(155, 0, 99)"
          ]
         ],
         "showscale": false,
         "sizemode": "absolute",
         "sizeref": 0.2,
         "type": "cone",
         "u": [
          0.0058372767756569915
         ],
         "v": [
          0.9763072942847668
         ],
         "w": [
          0.21630994735841966
         ],
         "x": [
          3.57726584820423
         ],
         "y": [
          0.9763072942847668
         ],
         "z": [
          0.21630994735841966
         ]
        },
        {
         "line": {
          "color": "rgb(90, 0, 164)",
          "width": 10
         },
         "marker": {
          "color": "rgb(90, 0, 164)",
          "size": 6
         },
         "mode": "lines+markers",
         "type": "scatter3d",
         "x": [
          4.591836734693878,
          4.586110417300547
         ],
         "y": [
          0,
          -0.957747659074566
         ],
         "z": [
          0,
          -0.28755283136547244
         ]
        },
        {
         "colorscale": [
          [
           0,
           "rgb(90, 0, 164)"
          ],
          [
           1,
           "rgb(90, 0, 164)"
          ]
         ],
         "showscale": false,
         "sizemode": "absolute",
         "sizeref": 0.2,
         "type": "cone",
         "u": [
          -0.005726317393330945
         ],
         "v": [
          -0.957747659074566
         ],
         "w": [
          -0.28755283136547244
         ],
         "x": [
          4.586110417300547
         ],
         "y": [
          -0.957747659074566
         ],
         "z": [
          -0.28755283136547244
         ]
        },
        {
         "line": {
          "color": "rgb(170, 0, 84)",
          "width": 10
         },
         "marker": {
          "color": "rgb(170, 0, 84)",
          "size": 6
         },
         "mode": "lines+markers",
         "type": "scatter3d",
         "x": [
          5.612244897959183,
          5.6178698610291935
         ],
         "y": [
          0,
          0.9407976915035984
         ],
         "z": [
          0,
          0.33892191350215356
         ]
        },
        {
         "colorscale": [
          [
           0,
           "rgb(170, 0, 84)"
          ],
          [
           1,
           "rgb(170, 0, 84)"
          ]
         ],
         "showscale": false,
         "sizemode": "absolute",
         "sizeref": 0.2,
         "type": "cone",
         "u": [
          0.005624963070010575
         ],
         "v": [
          0.9407976915035984
         ],
         "w": [
          0.33892191350215356
         ],
         "x": [
          5.6178698610291935
         ],
         "y": [
          0.9407976915035984
         ],
         "z": [
          0.33892191350215356
         ]
        },
        {
         "line": {
          "color": "rgb(75, 0, 179)",
          "width": 10
         },
         "marker": {
          "color": "rgb(75, 0, 179)",
          "size": 6
         },
         "mode": "lines+markers",
         "type": "scatter3d",
         "x": [
          6.632653061224492,
          6.627191570153817
         ],
         "y": [
          0,
          -0.913454573066334
         ],
         "z": [
          0,
          -0.4069040612472263
         ]
        },
        {
         "colorscale": [
          [
           0,
           "rgb(75, 0, 179)"
          ],
          [
           1,
           "rgb(75, 0, 179)"
          ]
         ],
         "showscale": false,
         "sizemode": "absolute",
         "sizeref": 0.2,
         "type": "cone",
         "u": [
          -0.005461491070674445
         ],
         "v": [
          -0.913454573066334
         ],
         "w": [
          -0.4069040612472263
         ],
         "x": [
          6.627191570153817
         ],
         "y": [
          -0.913454573066334
         ],
         "z": [
          -0.4069040612472263
         ]
        },
        {
         "line": {
          "color": "rgb(185, 0, 69)",
          "width": 10
         },
         "marker": {
          "color": "rgb(185, 0, 69)",
          "size": 6
         },
         "mode": "lines+markers",
         "type": "scatter3d",
         "x": [
          7.653061224489797,
          7.658381639494142
         ],
         "y": [
          0,
          0.8898615629933536
         ],
         "z": [
          0,
          0.45619961846894086
         ]
        },
        {
         "colorscale": [
          [
           0,
           "rgb(185, 0, 69)"
          ],
          [
           1,
           "rgb(185, 0, 69)"
          ]
         ],
         "showscale": false,
         "sizemode": "absolute",
         "sizeref": 0.2,
         "type": "cone",
         "u": [
          0.005320415004345975
         ],
         "v": [
          0.8898615629933536
         ],
         "w": [
          0.45619961846894086
         ],
         "x": [
          7.658381639494142
         ],
         "y": [
          0.8898615629933536
         ],
         "z": [
          0.45619961846894086
         ]
        },
        {
         "line": {
          "color": "rgb(61, 0, 193)",
          "width": 10
         },
         "marker": {
          "color": "rgb(61, 0, 193)",
          "size": 6
         },
         "mode": "lines+markers",
         "type": "scatter3d",
         "x": [
          8.673469387755105,
          8.668361472470597
         ],
         "y": [
          0,
          -0.8543179182957685
         ],
         "z": [
          0,
          -0.5197257004230508
         ]
        },
        {
         "colorscale": [
          [
           0,
           "rgb(61, 0, 193)"
          ],
          [
           1,
           "rgb(61, 0, 193)"
          ]
         ],
         "showscale": false,
         "sizemode": "absolute",
         "sizeref": 0.2,
         "type": "cone",
         "u": [
          -0.00510791528450765
         ],
         "v": [
          -0.8543179182957685
         ],
         "w": [
          -0.5197257004230508
         ],
         "x": [
          8.668361472470597
         ],
         "y": [
          -0.8543179182957685
         ],
         "z": [
          -0.5197257004230508
         ]
        },
        {
         "line": {
          "color": "rgb(199, 0, 55)",
          "width": 10
         },
         "marker": {
          "color": "rgb(199, 0, 55)",
          "size": 6
         },
         "mode": "lines+markers",
         "type": "scatter3d",
         "x": [
          9.693877551020407,
          9.69880561333907
         ],
         "y": [
          0,
          0.8242397122846975
         ],
         "z": [
          0,
          0.5662195783392008
         ]
        },
        {
         "colorscale": [
          [
           0,
           "rgb(199, 0, 55)"
          ],
          [
           1,
           "rgb(199, 0, 55)"
          ]
         ],
         "showscale": false,
         "sizemode": "absolute",
         "sizeref": 0.2,
         "type": "cone",
         "u": [
          0.004928062318662813
         ],
         "v": [
          0.8242397122846975
         ],
         "w": [
          0.5662195783392008
         ],
         "x": [
          9.69880561333907
         ],
         "y": [
          0.8242397122846975
         ],
         "z": [
          0.5662195783392008
         ]
        },
        {
         "line": {
          "color": "rgb(47, 0, 207)",
          "width": 10
         },
         "marker": {
          "color": "rgb(47, 0, 207)",
          "size": 6
         },
         "mode": "lines+markers",
         "type": "scatter3d",
         "x": [
          10.714285714285715,
          10.70961466975191
         ],
         "y": [
          0,
          -0.7812499208555906
         ],
         "z": [
          0,
          -0.6242008831346657
         ]
        },
        {
         "colorscale": [
          [
           0,
           "rgb(47, 0, 207)"
          ],
          [
           1,
           "rgb(47, 0, 207)"
          ]
         ],
         "showscale": false,
         "sizemode": "absolute",
         "sizeref": 0.2,
         "type": "cone",
         "u": [
          -0.0046710445338058555
         ],
         "v": [
          -0.7812499208555906
         ],
         "w": [
          -0.6242008831346657
         ],
         "x": [
          10.70961466975191
         ],
         "y": [
          -0.7812499208555906
         ],
         "z": [
          -0.6242008831346657
         ]
        },
        {
         "line": {
          "color": "rgb(212, 0, 42)",
          "width": 10
         },
         "marker": {
          "color": "rgb(212, 0, 42)",
          "size": 6
         },
         "mode": "lines+markers",
         "type": "scatter3d",
         "x": [
          11.734693877551024,
          11.739147666920323
         ],
         "y": [
          0,
          0.7449162338831113
         ],
         "z": [
          0,
          0.667143139256978
         ]
        },
        {
         "colorscale": [
          [
           0,
           "rgb(212, 0, 42)"
          ],
          [
           1,
           "rgb(212, 0, 42)"
          ]
         ],
         "showscale": false,
         "sizemode": "absolute",
         "sizeref": 0.2,
         "type": "cone",
         "u": [
          0.004453789369298145
         ],
         "v": [
          0.7449162338831113
         ],
         "w": [
          0.667143139256978
         ],
         "x": [
          11.739147666920323
         ],
         "y": [
          0.7449162338831113
         ],
         "z": [
          0.667143139256978
         ]
        },
        {
         "line": {
          "color": "rgb(35, 0, 219)",
          "width": 10
         },
         "marker": {
          "color": "rgb(35, 0, 219)",
          "size": 6
         },
         "mode": "lines+markers",
         "type": "scatter3d",
         "x": [
          12.755102040816325,
          12.750944371077678
         ],
         "y": [
          0,
          -0.6953863249476983
         ],
         "z": [
          0,
          -0.7186240831325362
         ]
        },
        {
         "colorscale": [
          [
           0,
           "rgb(35, 0, 219)"
          ],
          [
           1,
           "rgb(35, 0, 219)"
          ]
         ],
         "showscale": false,
         "sizemode": "absolute",
         "sizeref": 0.2,
         "type": "cone",
         "u": [
          -0.004157669738647154
         ],
         "v": [
          -0.6953863249476983
         ],
         "w": [
          -0.7186240831325362
         ],
         "x": [
          12.750944371077678
         ],
         "y": [
          -0.6953863249476983
         ],
         "z": [
          -0.7186240831325362
         ]
        },
        {
         "line": {
          "color": "rgb(224, 0, 30)",
          "width": 10
         },
         "marker": {
          "color": "rgb(224, 0, 30)",
          "size": 6
         },
         "mode": "lines+markers",
         "type": "scatter3d",
         "x": [
          13.775510204081634,
          13.779415116979484
         ],
         "y": [
          0,
          0.653114806886069
         ],
         "z": [
          0,
          0.757248836698633
         ]
        },
        {
         "colorscale": [
          [
           0,
           "rgb(224, 0, 30)"
          ],
          [
           1,
           "rgb(224, 0, 30)"
          ]
         ],
         "showscale": false,
         "sizemode": "absolute",
         "sizeref": 0.2,
         "type": "cone",
         "u": [
          0.0039049128978508986
         ],
         "v": [
          0.653114806886069
         ],
         "w": [
          0.757248836698633
         ],
         "x": [
          13.779415116979484
         ],
         "y": [
          0.653114806886069
         ],
         "z": [
          0.757248836698633
         ]
        },
        {
         "line": {
          "color": "rgb(25, 0, 229)",
          "width": 10
         },
         "marker": {
          "color": "rgb(25, 0, 229)",
          "size": 6
         },
         "mode": "lines+markers",
         "type": "scatter3d",
         "x": [
          14.795918367346943,
          14.792342499976705
         ],
         "y": [
          0,
          -0.5980778946276303
         ],
         "z": [
          0,
          -0.8014300001437002
         ]
        },
        {
         "colorscale": [
          [
           0,
           "rgb(25, 0, 229)"
          ],
          [
           1,
           "rgb(25, 0, 229)"
          ]
         ],
         "showscale": false,
         "sizemode": "absolute",
         "sizeref": 0.2,
         "type": "cone",
         "u": [
          -0.0035758673702375792
         ],
         "v": [
          -0.5980778946276303
         ],
         "w": [
          -0.8014300001437002
         ],
         "x": [
          14.792342499976705
         ],
         "y": [
          -0.5980778946276303
         ],
         "z": [
          -0.8014300001437002
         ]
        },
        {
         "line": {
          "color": "rgb(233, 0, 21)",
          "width": 10
         },
         "marker": {
          "color": "rgb(233, 0, 21)",
          "size": 6
         },
         "mode": "lines+markers",
         "type": "scatter3d",
         "x": [
          15.816326530612244,
          15.819616658645717
         ],
         "y": [
          0,
          0.5502896743132761
         ],
         "z": [
          0,
          0.8349673343321353
         ]
        },
        {
         "colorscale": [
          [
           0,
           "rgb(233, 0, 21)"
          ],
          [
           1,
           "rgb(233, 0, 21)"
          ]
         ],
         "showscale": false,
         "sizemode": "absolute",
         "sizeref": 0.2,
         "type": "cone",
         "u": [
          0.0032901280334741217
         ],
         "v": [
          0.5502896743132761
         ],
         "w": [
          0.8349673343321353
         ],
         "x": [
          15.819616658645717
         ],
         "y": [
          0.5502896743132761
         ],
         "z": [
          0.8349673343321353
         ]
        },
        {
         "line": {
          "color": "rgb(16, 0, 238)",
          "width": 10
         },
         "marker": {
          "color": "rgb(16, 0, 238)",
          "size": 6
         },
         "mode": "lines+markers",
         "type": "scatter3d",
         "x": [
          16.836734693877553,
          16.833799774129837
         ],
         "y": [
          0,
          -0.49087709174710326
         ],
         "z": [
          0,
          -0.8712238903083296
         ]
        },
        {
         "colorscale": [
          [
           0,
           "rgb(16, 0, 238)"
          ],
          [
           1,
           "rgb(16, 0, 238)"
          ]
         ],
         "showscale": false,
         "sizemode": "absolute",
         "sizeref": 0.2,
         "type": "cone",
         "u": [
          -0.0029349197477157862
         ],
         "v": [
          -0.49087709174710326
         ],
         "w": [
          -0.8712238903083296
         ],
         "x": [
          16.833799774129837
         ],
         "y": [
          -0.49087709174710326
         ],
         "z": [
          -0.8712238903083296
         ]
        },
        {
         "line": {
          "color": "rgb(242, 0, 12)",
          "width": 10
         },
         "marker": {
          "color": "rgb(242, 0, 12)",
          "size": 6
         },
         "mode": "lines+markers",
         "type": "scatter3d",
         "x": [
          17.85714285714286,
          17.859762270896596
         ],
         "y": [
          0,
          0.43810983895991
         ],
         "z": [
          0,
          0.8989176311977135
         ]
        },
        {
         "colorscale": [
          [
           0,
           "rgb(242, 0, 12)"
          ],
          [
           1,
           "rgb(242, 0, 12)"
          ]
         ],
         "showscale": false,
         "sizemode": "absolute",
         "sizeref": 0.2,
         "type": "cone",
         "u": [
          0.002619413753734472
         ],
         "v": [
          0.43810983895991
         ],
         "w": [
          0.8989176311977135
         ],
         "x": [
          17.859762270896596
         ],
         "y": [
          0.43810983895991
         ],
         "z": [
          0.8989176311977135
         ]
        },
        {
         "line": {
          "color": "rgb(9, 0, 245)",
          "width": 10
         },
         "marker": {
          "color": "rgb(9, 0, 245)",
          "size": 6
         },
         "mode": "lines+markers",
         "type": "scatter3d",
         "x": [
          18.877551020408163,
          18.87530582044524
         ],
         "y": [
          0,
          -0.37551883517264256
         ],
         "z": [
          0,
          -0.9268120432470157
         ]
        },
        {
         "colorscale": [
          [
           0,
           "rgb(9, 0, 245)"
          ],
          [
           1,
           "rgb(9, 0, 245)"
          ]
         ],
         "showscale": false,
         "sizemode": "absolute",
         "sizeref": 0.2,
         "type": "cone",
         "u": [
          -0.0022451999629197385
         ],
         "v": [
          -0.37551883517264256
         ],
         "w": [
          -0.9268120432470157
         ],
         "x": [
          18.87530582044524
         ],
         "y": [
          -0.37551883517264256
         ],
         "z": [
          -0.9268120432470157
         ]
        },
        {
         "line": {
          "color": "rgb(248, 0, 6)",
          "width": 10
         },
         "marker": {
          "color": "rgb(248, 0, 6)",
          "size": 6
         },
         "mode": "lines+markers",
         "type": "scatter3d",
         "x": [
          19.89795918367347,
          19.899863075507636
         ],
         "y": [
          0,
          0.31843547604452427
         ],
         "z": [
          0,
          0.9479426263187983
         ]
        },
        {
         "colorscale": [
          [
           0,
           "rgb(248, 0, 6)"
          ],
          [
           1,
           "rgb(248, 0, 6)"
          ]
         ],
         "showscale": false,
         "sizemode": "absolute",
         "sizeref": 0.2,
         "type": "cone",
         "u": [
          0.0019038918341658597
         ],
         "v": [
          0.31843547604452427
         ],
         "w": [
          0.9479426263187983
         ],
         "x": [
          19.899863075507636
         ],
         "y": [
          0.31843547604452427
         ],
         "z": [
          0.9479426263187983
         ]
        },
        {
         "line": {
          "color": "rgb(4, 0, 250)",
          "width": 10
         },
         "marker": {
          "color": "rgb(4, 0, 250)",
          "size": 6
         },
         "mode": "lines+markers",
         "type": "scatter3d",
         "x": [
          20.91836734693878,
          20.91684932907881
         ],
         "y": [
          0,
          -0.25389474276327534
         ],
         "z": [
          0,
          -0.9672306628818934
         ]
        },
        {
         "colorscale": [
          [
           0,
           "rgb(4, 0, 250)"
          ],
          [
           1,
           "rgb(4, 0, 250)"
          ]
         ],
         "showscale": false,
         "sizemode": "absolute",
         "sizeref": 0.2,
         "type": "cone",
         "u": [
          -0.001518017859968651
         ],
         "v": [
          -0.25389474276327534
         ],
         "w": [
          -0.9672306628818934
         ],
         "x": [
          20.91684932907881
         ],
         "y": [
          -0.25389474276327534
         ],
         "z": [
          -0.9672306628818934
         ]
        },
        {
         "line": {
          "color": "rgb(252, 0, 2)",
          "width": 10
         },
         "marker": {
          "color": "rgb(252, 0, 2)",
          "size": 6
         },
         "mode": "lines+markers",
         "type": "scatter3d",
         "x": [
          21.93877551020408,
          21.93993114767455
         ],
         "y": [
          0,
          0.19328625820424777
         ],
         "z": [
          0,
          0.981141726200368
         ]
        },
        {
         "colorscale": [
          [
           0,
           "rgb(252, 0, 2)"
          ],
          [
           1,
           "rgb(252, 0, 2)"
          ]
         ],
         "showscale": false,
         "sizemode": "absolute",
         "sizeref": 0.2,
         "type": "cone",
         "u": [
          0.001155637470468096
         ],
         "v": [
          0.19328625820424777
         ],
         "w": [
          0.981141726200368
         ],
         "x": [
          21.93993114767455
         ],
         "y": [
          0.19328625820424777
         ],
         "z": [
          0.981141726200368
         ]
        },
        {
         "line": {
          "color": "rgb(1, 0, 253)",
          "width": 10
         },
         "marker": {
          "color": "rgb(1, 0, 253)",
          "size": 6
         },
         "mode": "lines+markers",
         "type": "scatter3d",
         "x": [
          22.95918367346939,
          22.958418246073908
         ],
         "y": [
          0,
          -0.12802091024066778
         ],
         "z": [
          0,
          -0.9917711735385604
         ]
        },
        {
         "colorscale": [
          [
           0,
           "rgb(1, 0, 253)"
          ],
          [
           1,
           "rgb(1, 0, 253)"
          ]
         ],
         "showscale": false,
         "sizemode": "absolute",
         "sizeref": 0.2,
         "type": "cone",
         "u": [
          -0.000765427395482992
         ],
         "v": [
          -0.12802091024066778
         ],
         "w": [
          -0.9917711735385604
         ],
         "x": [
          22.958418246073908
         ],
         "y": [
          -0.12802091024066778
         ],
         "z": [
          -0.9917711735385604
         ]
        },
        {
         "line": {
          "color": "rgb(254, 0, 0)",
          "width": 10
         },
         "marker": {
          "color": "rgb(254, 0, 0)",
          "size": 6
         },
         "mode": "lines+markers",
         "type": "scatter3d",
         "x": [
          23.9795918367347,
          23.979979281483164
         ],
         "y": [
          0,
          0.06480212386131848
         ],
         "z": [
          0,
          0.9978980582352233
         ]
        },
        {
         "colorscale": [
          [
           0,
           "rgb(254, 0, 0)"
          ],
          [
           1,
           "rgb(254, 0, 0)"
          ]
         ],
         "showscale": false,
         "sizemode": "absolute",
         "sizeref": 0.2,
         "type": "cone",
         "u": [
          0.0003874447484656346
         ],
         "v": [
          0.06480212386131848
         ],
         "w": [
          0.9978980582352233
         ],
         "x": [
          23.979979281483164
         ],
         "y": [
          0.06480212386131848
         ],
         "z": [
          0.9978980582352233
         ]
        },
        {
         "line": {
          "color": "rgb(0, 0, 255)",
          "width": 10
         },
         "marker": {
          "color": "rgb(0, 0, 255)",
          "size": 6
         },
         "mode": "lines+markers",
         "type": "scatter3d",
         "x": [
          25,
          25
         ],
         "y": [
          0,
          0
         ],
         "z": [
          0,
          -1
         ]
        },
        {
         "colorscale": [
          [
           0,
           "rgb(0, 0, 255)"
          ],
          [
           1,
           "rgb(0, 0, 255)"
          ]
         ],
         "showscale": false,
         "sizemode": "absolute",
         "sizeref": 0.2,
         "type": "cone",
         "u": [
          0
         ],
         "v": [
          0
         ],
         "w": [
          -1
         ],
         "x": [
          25
         ],
         "y": [
          0
         ],
         "z": [
          -1
         ]
        }
       ],
       "layout": {
        "height": 800,
        "scene": {
         "xaxis": {
          "range": [
           -30,
           30
          ],
          "title": {
           "text": "X"
          }
         },
         "yaxis": {
          "range": [
           -1,
           1
          ],
          "title": {
           "text": "Y"
          }
         },
         "zaxis": {
          "range": [
           -1,
           1
          ],
          "title": {
           "text": "Z"
          }
         }
        },
        "template": {
         "data": {
          "bar": [
           {
            "error_x": {
             "color": "#2a3f5f"
            },
            "error_y": {
             "color": "#2a3f5f"
            },
            "marker": {
             "line": {
              "color": "#E5ECF6",
              "width": 0.5
             },
             "pattern": {
              "fillmode": "overlay",
              "size": 10,
              "solidity": 0.2
             }
            },
            "type": "bar"
           }
          ],
          "barpolar": [
           {
            "marker": {
             "line": {
              "color": "#E5ECF6",
              "width": 0.5
             },
             "pattern": {
              "fillmode": "overlay",
              "size": 10,
              "solidity": 0.2
             }
            },
            "type": "barpolar"
           }
          ],
          "carpet": [
           {
            "aaxis": {
             "endlinecolor": "#2a3f5f",
             "gridcolor": "white",
             "linecolor": "white",
             "minorgridcolor": "white",
             "startlinecolor": "#2a3f5f"
            },
            "baxis": {
             "endlinecolor": "#2a3f5f",
             "gridcolor": "white",
             "linecolor": "white",
             "minorgridcolor": "white",
             "startlinecolor": "#2a3f5f"
            },
            "type": "carpet"
           }
          ],
          "choropleth": [
           {
            "colorbar": {
             "outlinewidth": 0,
             "ticks": ""
            },
            "type": "choropleth"
           }
          ],
          "contour": [
           {
            "colorbar": {
             "outlinewidth": 0,
             "ticks": ""
            },
            "colorscale": [
             [
              0,
              "#0d0887"
             ],
             [
              0.1111111111111111,
              "#46039f"
             ],
             [
              0.2222222222222222,
              "#7201a8"
             ],
             [
              0.3333333333333333,
              "#9c179e"
             ],
             [
              0.4444444444444444,
              "#bd3786"
             ],
             [
              0.5555555555555556,
              "#d8576b"
             ],
             [
              0.6666666666666666,
              "#ed7953"
             ],
             [
              0.7777777777777778,
              "#fb9f3a"
             ],
             [
              0.8888888888888888,
              "#fdca26"
             ],
             [
              1,
              "#f0f921"
             ]
            ],
            "type": "contour"
           }
          ],
          "contourcarpet": [
           {
            "colorbar": {
             "outlinewidth": 0,
             "ticks": ""
            },
            "type": "contourcarpet"
           }
          ],
          "heatmap": [
           {
            "colorbar": {
             "outlinewidth": 0,
             "ticks": ""
            },
            "colorscale": [
             [
              0,
              "#0d0887"
             ],
             [
              0.1111111111111111,
              "#46039f"
             ],
             [
              0.2222222222222222,
              "#7201a8"
             ],
             [
              0.3333333333333333,
              "#9c179e"
             ],
             [
              0.4444444444444444,
              "#bd3786"
             ],
             [
              0.5555555555555556,
              "#d8576b"
             ],
             [
              0.6666666666666666,
              "#ed7953"
             ],
             [
              0.7777777777777778,
              "#fb9f3a"
             ],
             [
              0.8888888888888888,
              "#fdca26"
             ],
             [
              1,
              "#f0f921"
             ]
            ],
            "type": "heatmap"
           }
          ],
          "heatmapgl": [
           {
            "colorbar": {
             "outlinewidth": 0,
             "ticks": ""
            },
            "colorscale": [
             [
              0,
              "#0d0887"
             ],
             [
              0.1111111111111111,
              "#46039f"
             ],
             [
              0.2222222222222222,
              "#7201a8"
             ],
             [
              0.3333333333333333,
              "#9c179e"
             ],
             [
              0.4444444444444444,
              "#bd3786"
             ],
             [
              0.5555555555555556,
              "#d8576b"
             ],
             [
              0.6666666666666666,
              "#ed7953"
             ],
             [
              0.7777777777777778,
              "#fb9f3a"
             ],
             [
              0.8888888888888888,
              "#fdca26"
             ],
             [
              1,
              "#f0f921"
             ]
            ],
            "type": "heatmapgl"
           }
          ],
          "histogram": [
           {
            "marker": {
             "pattern": {
              "fillmode": "overlay",
              "size": 10,
              "solidity": 0.2
             }
            },
            "type": "histogram"
           }
          ],
          "histogram2d": [
           {
            "colorbar": {
             "outlinewidth": 0,
             "ticks": ""
            },
            "colorscale": [
             [
              0,
              "#0d0887"
             ],
             [
              0.1111111111111111,
              "#46039f"
             ],
             [
              0.2222222222222222,
              "#7201a8"
             ],
             [
              0.3333333333333333,
              "#9c179e"
             ],
             [
              0.4444444444444444,
              "#bd3786"
             ],
             [
              0.5555555555555556,
              "#d8576b"
             ],
             [
              0.6666666666666666,
              "#ed7953"
             ],
             [
              0.7777777777777778,
              "#fb9f3a"
             ],
             [
              0.8888888888888888,
              "#fdca26"
             ],
             [
              1,
              "#f0f921"
             ]
            ],
            "type": "histogram2d"
           }
          ],
          "histogram2dcontour": [
           {
            "colorbar": {
             "outlinewidth": 0,
             "ticks": ""
            },
            "colorscale": [
             [
              0,
              "#0d0887"
             ],
             [
              0.1111111111111111,
              "#46039f"
             ],
             [
              0.2222222222222222,
              "#7201a8"
             ],
             [
              0.3333333333333333,
              "#9c179e"
             ],
             [
              0.4444444444444444,
              "#bd3786"
             ],
             [
              0.5555555555555556,
              "#d8576b"
             ],
             [
              0.6666666666666666,
              "#ed7953"
             ],
             [
              0.7777777777777778,
              "#fb9f3a"
             ],
             [
              0.8888888888888888,
              "#fdca26"
             ],
             [
              1,
              "#f0f921"
             ]
            ],
            "type": "histogram2dcontour"
           }
          ],
          "mesh3d": [
           {
            "colorbar": {
             "outlinewidth": 0,
             "ticks": ""
            },
            "type": "mesh3d"
           }
          ],
          "parcoords": [
           {
            "line": {
             "colorbar": {
              "outlinewidth": 0,
              "ticks": ""
             }
            },
            "type": "parcoords"
           }
          ],
          "pie": [
           {
            "automargin": true,
            "type": "pie"
           }
          ],
          "scatter": [
           {
            "fillpattern": {
             "fillmode": "overlay",
             "size": 10,
             "solidity": 0.2
            },
            "type": "scatter"
           }
          ],
          "scatter3d": [
           {
            "line": {
             "colorbar": {
              "outlinewidth": 0,
              "ticks": ""
             }
            },
            "marker": {
             "colorbar": {
              "outlinewidth": 0,
              "ticks": ""
             }
            },
            "type": "scatter3d"
           }
          ],
          "scattercarpet": [
           {
            "marker": {
             "colorbar": {
              "outlinewidth": 0,
              "ticks": ""
             }
            },
            "type": "scattercarpet"
           }
          ],
          "scattergeo": [
           {
            "marker": {
             "colorbar": {
              "outlinewidth": 0,
              "ticks": ""
             }
            },
            "type": "scattergeo"
           }
          ],
          "scattergl": [
           {
            "marker": {
             "colorbar": {
              "outlinewidth": 0,
              "ticks": ""
             }
            },
            "type": "scattergl"
           }
          ],
          "scattermapbox": [
           {
            "marker": {
             "colorbar": {
              "outlinewidth": 0,
              "ticks": ""
             }
            },
            "type": "scattermapbox"
           }
          ],
          "scatterpolar": [
           {
            "marker": {
             "colorbar": {
              "outlinewidth": 0,
              "ticks": ""
             }
            },
            "type": "scatterpolar"
           }
          ],
          "scatterpolargl": [
           {
            "marker": {
             "colorbar": {
              "outlinewidth": 0,
              "ticks": ""
             }
            },
            "type": "scatterpolargl"
           }
          ],
          "scatterternary": [
           {
            "marker": {
             "colorbar": {
              "outlinewidth": 0,
              "ticks": ""
             }
            },
            "type": "scatterternary"
           }
          ],
          "surface": [
           {
            "colorbar": {
             "outlinewidth": 0,
             "ticks": ""
            },
            "colorscale": [
             [
              0,
              "#0d0887"
             ],
             [
              0.1111111111111111,
              "#46039f"
             ],
             [
              0.2222222222222222,
              "#7201a8"
             ],
             [
              0.3333333333333333,
              "#9c179e"
             ],
             [
              0.4444444444444444,
              "#bd3786"
             ],
             [
              0.5555555555555556,
              "#d8576b"
             ],
             [
              0.6666666666666666,
              "#ed7953"
             ],
             [
              0.7777777777777778,
              "#fb9f3a"
             ],
             [
              0.8888888888888888,
              "#fdca26"
             ],
             [
              1,
              "#f0f921"
             ]
            ],
            "type": "surface"
           }
          ],
          "table": [
           {
            "cells": {
             "fill": {
              "color": "#EBF0F8"
             },
             "line": {
              "color": "white"
             }
            },
            "header": {
             "fill": {
              "color": "#C8D4E3"
             },
             "line": {
              "color": "white"
             }
            },
            "type": "table"
           }
          ]
         },
         "layout": {
          "annotationdefaults": {
           "arrowcolor": "#2a3f5f",
           "arrowhead": 0,
           "arrowwidth": 1
          },
          "autotypenumbers": "strict",
          "coloraxis": {
           "colorbar": {
            "outlinewidth": 0,
            "ticks": ""
           }
          },
          "colorscale": {
           "diverging": [
            [
             0,
             "#8e0152"
            ],
            [
             0.1,
             "#c51b7d"
            ],
            [
             0.2,
             "#de77ae"
            ],
            [
             0.3,
             "#f1b6da"
            ],
            [
             0.4,
             "#fde0ef"
            ],
            [
             0.5,
             "#f7f7f7"
            ],
            [
             0.6,
             "#e6f5d0"
            ],
            [
             0.7,
             "#b8e186"
            ],
            [
             0.8,
             "#7fbc41"
            ],
            [
             0.9,
             "#4d9221"
            ],
            [
             1,
             "#276419"
            ]
           ],
           "sequential": [
            [
             0,
             "#0d0887"
            ],
            [
             0.1111111111111111,
             "#46039f"
            ],
            [
             0.2222222222222222,
             "#7201a8"
            ],
            [
             0.3333333333333333,
             "#9c179e"
            ],
            [
             0.4444444444444444,
             "#bd3786"
            ],
            [
             0.5555555555555556,
             "#d8576b"
            ],
            [
             0.6666666666666666,
             "#ed7953"
            ],
            [
             0.7777777777777778,
             "#fb9f3a"
            ],
            [
             0.8888888888888888,
             "#fdca26"
            ],
            [
             1,
             "#f0f921"
            ]
           ],
           "sequentialminus": [
            [
             0,
             "#0d0887"
            ],
            [
             0.1111111111111111,
             "#46039f"
            ],
            [
             0.2222222222222222,
             "#7201a8"
            ],
            [
             0.3333333333333333,
             "#9c179e"
            ],
            [
             0.4444444444444444,
             "#bd3786"
            ],
            [
             0.5555555555555556,
             "#d8576b"
            ],
            [
             0.6666666666666666,
             "#ed7953"
            ],
            [
             0.7777777777777778,
             "#fb9f3a"
            ],
            [
             0.8888888888888888,
             "#fdca26"
            ],
            [
             1,
             "#f0f921"
            ]
           ]
          },
          "colorway": [
           "#636efa",
           "#EF553B",
           "#00cc96",
           "#ab63fa",
           "#FFA15A",
           "#19d3f3",
           "#FF6692",
           "#B6E880",
           "#FF97FF",
           "#FECB52"
          ],
          "font": {
           "color": "#2a3f5f"
          },
          "geo": {
           "bgcolor": "white",
           "lakecolor": "white",
           "landcolor": "#E5ECF6",
           "showlakes": true,
           "showland": true,
           "subunitcolor": "white"
          },
          "hoverlabel": {
           "align": "left"
          },
          "hovermode": "closest",
          "mapbox": {
           "style": "light"
          },
          "paper_bgcolor": "white",
          "plot_bgcolor": "#E5ECF6",
          "polar": {
           "angularaxis": {
            "gridcolor": "white",
            "linecolor": "white",
            "ticks": ""
           },
           "bgcolor": "#E5ECF6",
           "radialaxis": {
            "gridcolor": "white",
            "linecolor": "white",
            "ticks": ""
           }
          },
          "scene": {
           "xaxis": {
            "backgroundcolor": "#E5ECF6",
            "gridcolor": "white",
            "gridwidth": 2,
            "linecolor": "white",
            "showbackground": true,
            "ticks": "",
            "zerolinecolor": "white"
           },
           "yaxis": {
            "backgroundcolor": "#E5ECF6",
            "gridcolor": "white",
            "gridwidth": 2,
            "linecolor": "white",
            "showbackground": true,
            "ticks": "",
            "zerolinecolor": "white"
           },
           "zaxis": {
            "backgroundcolor": "#E5ECF6",
            "gridcolor": "white",
            "gridwidth": 2,
            "linecolor": "white",
            "showbackground": true,
            "ticks": "",
            "zerolinecolor": "white"
           }
          },
          "shapedefaults": {
           "line": {
            "color": "#2a3f5f"
           }
          },
          "ternary": {
           "aaxis": {
            "gridcolor": "white",
            "linecolor": "white",
            "ticks": ""
           },
           "baxis": {
            "gridcolor": "white",
            "linecolor": "white",
            "ticks": ""
           },
           "bgcolor": "#E5ECF6",
           "caxis": {
            "gridcolor": "white",
            "linecolor": "white",
            "ticks": ""
           }
          },
          "title": {
           "x": 0.05
          },
          "xaxis": {
           "automargin": true,
           "gridcolor": "white",
           "linecolor": "white",
           "ticks": "",
           "title": {
            "standoff": 15
           },
           "zerolinecolor": "white",
           "zerolinewidth": 2
          },
          "yaxis": {
           "automargin": true,
           "gridcolor": "white",
           "linecolor": "white",
           "ticks": "",
           "title": {
            "standoff": 15
           },
           "zerolinecolor": "white",
           "zerolinewidth": 2
          }
         }
        },
        "title": {
         "text": "3D Vector Plot with Evenly Spaced Vectors Along X-Axis"
        },
        "width": 1000
       }
      }
     },
     "metadata": {},
     "output_type": "display_data"
    }
   ],
   "source": [
    "# Define function to plot vectors from Excel file\n",
    "def plot_vectors_from_excel(file_path=\"vectors.xlsx\"):\n",
    "    # Read the Excel file\n",
    "    # Ensure the file exists and is in the correct format\n",
    "    try:\n",
    "        df = pd.read_excel(file_path, engine=\"openpyxl\")\n",
    "    except Exception as e:\n",
    "        print(f\"Error reading the Excel file: {e}\")\n",
    "        return\n",
    "\n",
    "    # Ensure required columns exist\n",
    "    # If not, print an error message and return\n",
    "    if not {\"X\", \"Y\", \"Z\"}.issubset(df.columns):\n",
    "        print(\"Error: Excel file must contain columns 'X', 'Y', and 'Z'.\")\n",
    "        return\n",
    "\n",
    "    # Create a 3D plot\n",
    "    fig = go.Figure()\n",
    "\n",
    "    # Set up the vectors\n",
    "    num_vectors = len(df)\n",
    "\n",
    "    # Adjust spacing between vectors\n",
    "    spacing = 1\n",
    "\n",
    "    # Set up positions for vectors along the x-axis\n",
    "    x_positions = np.linspace(-num_vectors * spacing / 2, num_vectors * spacing / 2, num_vectors)\n",
    "\n",
    "    # Iterate over the rows of the DataFrame\n",
    "    # Each row contains the components of a vector\n",
    "    # We will plot each vector as a line and an arrowhead\n",
    "    # The colour of the vector will be based on the z-component\n",
    "    # The colour will be red for negative z-component and blue for positive z-component\n",
    "    # The magnitude of the z-component will determine the intensity of the colour\n",
    "    # The vectors will be evenly spaced along the x-axis\n",
    "    for i, row in enumerate(df.itertuples(index=False)):\n",
    "        # Set the starting point of the vector so that they are \n",
    "        # evenly spaced along the x-axis and are at y=0, z=0 \n",
    "        x0 = x_positions[i] \n",
    "        y0, z0 = 0, 0  \n",
    "\n",
    "        # Get the components of the vector\n",
    "        x_dir, y_dir, z_dir = row.X, row.Y, row.Z\n",
    "\n",
    "        # Compute magnitude for colour mapping\n",
    "        colour = f'rgb({int(255 * (z_dir + 1) / 2)}, 0, {int(255 * (1 - (z_dir + 1) / 2))})'\n",
    "\n",
    "        # Add vector line\n",
    "        fig.add_trace(go.Scatter3d(\n",
    "            x=[x0, x0 + x_dir],\n",
    "            y=[y0, y0 + y_dir],\n",
    "            z=[z0, z0 + z_dir],\n",
    "            mode='lines+markers',\n",
    "            line=dict(color=colour, width=10),\n",
    "            marker=dict(size=6, color=colour)\n",
    "        ))\n",
    "\n",
    "        # Add vector cone (arrowhead)\n",
    "        # The cone will be placed at the end of the vector\n",
    "        fig.add_trace(go.Cone(\n",
    "            x=[x0 + x_dir], y=[y0 + y_dir], z=[z0 + z_dir],\n",
    "            u=[x_dir], v=[y_dir], w=[z_dir],\n",
    "            colorscale=[[0, colour], [1, colour]],\n",
    "            showscale=False,\n",
    "            sizemode='absolute',\n",
    "            sizeref=0.2\n",
    "        ))\n",
    "\n",
    "    # Set 3D plot layout\n",
    "    # Set axis titles and ranges\n",
    "    # Set plot title\n",
    "    # Set plot width and height\n",
    "    # Show the plot\n",
    "    fig.update_layout(\n",
    "        scene=dict(\n",
    "            xaxis_title='X', yaxis_title='Y', zaxis_title='Z',\n",
    "            xaxis=dict(range=[-num_vectors * spacing / 2 - 5, num_vectors * spacing / 2 + 5]),\n",
    "            yaxis=dict(range=[-1, 1]),\n",
    "            zaxis=dict(range=[-1, 1])\n",
    "        ),\n",
    "        title=\"3D Vector Plot with Evenly Spaced Vectors Along X-Axis\",\n",
    "        width=1000,\n",
    "        height=800\n",
    "    )\n",
    "\n",
    "    fig.show()\n",
    "\n",
    "# Call function to plot vectors\n",
    "plot_vectors_from_excel()"
   ]
  }
 ],
 "metadata": {
  "kernelspec": {
   "display_name": "Python 3",
   "language": "python",
   "name": "python3"
  },
  "language_info": {
   "codemirror_mode": {
    "name": "ipython",
    "version": 3
   },
   "file_extension": ".py",
   "mimetype": "text/x-python",
   "name": "python",
   "nbconvert_exporter": "python",
   "pygments_lexer": "ipython3",
   "version": "3.11.9"
  }
 },
 "nbformat": 4,
 "nbformat_minor": 2
}
