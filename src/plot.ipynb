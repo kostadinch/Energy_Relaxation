{
 "cells": [
  {
   "cell_type": "code",
   "execution_count": 1,
   "metadata": {},
   "outputs": [
    {
     "name": "stdout",
     "output_type": "stream",
     "text": [
      "Requirement already satisfied: ipywidgets in c:\\users\\kchuc\\appdata\\local\\packages\\pythonsoftwarefoundation.python.3.11_qbz5n2kfra8p0\\localcache\\local-packages\\python311\\site-packages (8.1.5)\n",
      "Requirement already satisfied: comm>=0.1.3 in c:\\users\\kchuc\\appdata\\local\\packages\\pythonsoftwarefoundation.python.3.11_qbz5n2kfra8p0\\localcache\\local-packages\\python311\\site-packages (from ipywidgets) (0.2.0)\n",
      "Requirement already satisfied: ipython>=6.1.0 in c:\\users\\kchuc\\appdata\\local\\packages\\pythonsoftwarefoundation.python.3.11_qbz5n2kfra8p0\\localcache\\local-packages\\python311\\site-packages (from ipywidgets) (8.17.2)\n",
      "Requirement already satisfied: traitlets>=4.3.1 in c:\\users\\kchuc\\appdata\\local\\packages\\pythonsoftwarefoundation.python.3.11_qbz5n2kfra8p0\\localcache\\local-packages\\python311\\site-packages (from ipywidgets) (5.13.0)\n",
      "Requirement already satisfied: widgetsnbextension~=4.0.12 in c:\\users\\kchuc\\appdata\\local\\packages\\pythonsoftwarefoundation.python.3.11_qbz5n2kfra8p0\\localcache\\local-packages\\python311\\site-packages (from ipywidgets) (4.0.13)\n",
      "Requirement already satisfied: jupyterlab-widgets~=3.0.12 in c:\\users\\kchuc\\appdata\\local\\packages\\pythonsoftwarefoundation.python.3.11_qbz5n2kfra8p0\\localcache\\local-packages\\python311\\site-packages (from ipywidgets) (3.0.13)\n",
      "Requirement already satisfied: decorator in c:\\users\\kchuc\\appdata\\local\\packages\\pythonsoftwarefoundation.python.3.11_qbz5n2kfra8p0\\localcache\\local-packages\\python311\\site-packages (from ipython>=6.1.0->ipywidgets) (5.1.1)\n",
      "Requirement already satisfied: jedi>=0.16 in c:\\users\\kchuc\\appdata\\local\\packages\\pythonsoftwarefoundation.python.3.11_qbz5n2kfra8p0\\localcache\\local-packages\\python311\\site-packages (from ipython>=6.1.0->ipywidgets) (0.19.1)\n",
      "Requirement already satisfied: matplotlib-inline in c:\\users\\kchuc\\appdata\\local\\packages\\pythonsoftwarefoundation.python.3.11_qbz5n2kfra8p0\\localcache\\local-packages\\python311\\site-packages (from ipython>=6.1.0->ipywidgets) (0.1.6)\n",
      "Requirement already satisfied: prompt-toolkit!=3.0.37,<3.1.0,>=3.0.30 in c:\\users\\kchuc\\appdata\\local\\packages\\pythonsoftwarefoundation.python.3.11_qbz5n2kfra8p0\\localcache\\local-packages\\python311\\site-packages (from ipython>=6.1.0->ipywidgets) (3.0.41)\n",
      "Requirement already satisfied: pygments>=2.4.0 in c:\\users\\kchuc\\appdata\\local\\packages\\pythonsoftwarefoundation.python.3.11_qbz5n2kfra8p0\\localcache\\local-packages\\python311\\site-packages (from ipython>=6.1.0->ipywidgets) (2.16.1)\n",
      "Requirement already satisfied: stack-data in c:\\users\\kchuc\\appdata\\local\\packages\\pythonsoftwarefoundation.python.3.11_qbz5n2kfra8p0\\localcache\\local-packages\\python311\\site-packages (from ipython>=6.1.0->ipywidgets) (0.6.3)\n",
      "Requirement already satisfied: colorama in c:\\users\\kchuc\\appdata\\local\\packages\\pythonsoftwarefoundation.python.3.11_qbz5n2kfra8p0\\localcache\\local-packages\\python311\\site-packages (from ipython>=6.1.0->ipywidgets) (0.4.6)\n",
      "Requirement already satisfied: parso<0.9.0,>=0.8.3 in c:\\users\\kchuc\\appdata\\local\\packages\\pythonsoftwarefoundation.python.3.11_qbz5n2kfra8p0\\localcache\\local-packages\\python311\\site-packages (from jedi>=0.16->ipython>=6.1.0->ipywidgets) (0.8.3)\n",
      "Requirement already satisfied: wcwidth in c:\\users\\kchuc\\appdata\\local\\packages\\pythonsoftwarefoundation.python.3.11_qbz5n2kfra8p0\\localcache\\local-packages\\python311\\site-packages (from prompt-toolkit!=3.0.37,<3.1.0,>=3.0.30->ipython>=6.1.0->ipywidgets) (0.2.10)\n",
      "Requirement already satisfied: executing>=1.2.0 in c:\\users\\kchuc\\appdata\\local\\packages\\pythonsoftwarefoundation.python.3.11_qbz5n2kfra8p0\\localcache\\local-packages\\python311\\site-packages (from stack-data->ipython>=6.1.0->ipywidgets) (2.0.1)\n",
      "Requirement already satisfied: asttokens>=2.1.0 in c:\\users\\kchuc\\appdata\\local\\packages\\pythonsoftwarefoundation.python.3.11_qbz5n2kfra8p0\\localcache\\local-packages\\python311\\site-packages (from stack-data->ipython>=6.1.0->ipywidgets) (2.4.1)\n",
      "Requirement already satisfied: pure-eval in c:\\users\\kchuc\\appdata\\local\\packages\\pythonsoftwarefoundation.python.3.11_qbz5n2kfra8p0\\localcache\\local-packages\\python311\\site-packages (from stack-data->ipython>=6.1.0->ipywidgets) (0.2.2)\n",
      "Requirement already satisfied: six>=1.12.0 in c:\\users\\kchuc\\appdata\\local\\packages\\pythonsoftwarefoundation.python.3.11_qbz5n2kfra8p0\\localcache\\local-packages\\python311\\site-packages (from asttokens>=2.1.0->stack-data->ipython>=6.1.0->ipywidgets) (1.16.0)\n",
      "Note: you may need to restart the kernel to use updated packages.\n"
     ]
    },
    {
     "name": "stderr",
     "output_type": "stream",
     "text": [
      "\n",
      "[notice] A new release of pip is available: 24.0 -> 25.0\n",
      "[notice] To update, run: C:\\Users\\kchuc\\AppData\\Local\\Microsoft\\WindowsApps\\PythonSoftwareFoundation.Python.3.11_qbz5n2kfra8p0\\python.exe -m pip install --upgrade pip\n"
     ]
    }
   ],
   "source": [
    "%pip install ipywidgets\n",
    "\n",
    "import numpy as np\n",
    "import plotly.graph_objects as go\n",
    "import plotly.io as pio\n",
    "from ipywidgets import interact\n",
    "\n"
   ]
  },
  {
   "cell_type": "code",
   "execution_count": 10,
   "metadata": {},
   "outputs": [],
   "source": [
    "import pandas as pd\n"
   ]
  },
  {
   "cell_type": "code",
   "execution_count": 16,
   "metadata": {},
   "outputs": [
    {
     "name": "stdout",
     "output_type": "stream",
     "text": [
      "Collecting openpyxl\n",
      "  Downloading openpyxl-3.1.5-py2.py3-none-any.whl.metadata (2.5 kB)\n",
      "Collecting et-xmlfile (from openpyxl)\n",
      "  Downloading et_xmlfile-2.0.0-py3-none-any.whl.metadata (2.7 kB)\n",
      "Downloading openpyxl-3.1.5-py2.py3-none-any.whl (250 kB)\n",
      "   ---------------------------------------- 0.0/250.9 kB ? eta -:--:--\n",
      "   ---------------------------------------  245.8/250.9 kB 7.6 MB/s eta 0:00:01\n",
      "   ---------------------------------------- 250.9/250.9 kB 3.9 MB/s eta 0:00:00\n",
      "Downloading et_xmlfile-2.0.0-py3-none-any.whl (18 kB)\n",
      "Installing collected packages: et-xmlfile, openpyxl\n",
      "Successfully installed et-xmlfile-2.0.0 openpyxl-3.1.5\n",
      "Note: you may need to restart the kernel to use updated packages.\n"
     ]
    },
    {
     "name": "stderr",
     "output_type": "stream",
     "text": [
      "\n",
      "[notice] A new release of pip is available: 24.0 -> 25.0\n",
      "[notice] To update, run: C:\\Users\\kchuc\\AppData\\Local\\Microsoft\\WindowsApps\\PythonSoftwareFoundation.Python.3.11_qbz5n2kfra8p0\\python.exe -m pip install --upgrade pip\n"
     ]
    }
   ],
   "source": [
    "%pip install openpyxl"
   ]
  },
  {
   "cell_type": "code",
   "execution_count": 64,
   "metadata": {},
   "outputs": [
    {
     "data": {
      "application/vnd.plotly.v1+json": {
       "config": {
        "plotlyServerURL": "https://plot.ly"
       },
       "data": [
        {
         "line": {
          "color": "rgb(53, 0, 201)",
          "width": 6
         },
         "marker": {
          "color": "rgb(53, 0, 201)",
          "size": 4
         },
         "mode": "lines+markers",
         "type": "scatter3d",
         "x": [
          -25,
          -25.577350269189626
         ],
         "y": [
          0,
          -0.5773502691896257
         ],
         "z": [
          0,
          -0.5773502691896257
         ]
        },
        {
         "colorscale": [
          [
           0,
           "rgb(53, 0, 201)"
          ],
          [
           1,
           "rgb(53, 0, 201)"
          ]
         ],
         "showscale": false,
         "sizemode": "absolute",
         "sizeref": 0.2,
         "type": "cone",
         "u": [
          -0.5773502691896257
         ],
         "v": [
          -0.5773502691896257
         ],
         "w": [
          -0.5773502691896257
         ],
         "x": [
          -25.577350269189626
         ],
         "y": [
          -0.5773502691896257
         ],
         "z": [
          -0.5773502691896257
         ]
        },
        {
         "line": {
          "color": "rgb(207, 0, 47)",
          "width": 6
         },
         "marker": {
          "color": "rgb(207, 0, 47)",
          "size": 4
         },
         "mode": "lines+markers",
         "type": "scatter3d",
         "x": [
          -23.979591836734695,
          -23.46172524807497
         ],
         "y": [
          0,
          0.5786462339034713
         ],
         "z": [
          0,
          0.6300656571654005
         ]
        },
        {
         "colorscale": [
          [
           0,
           "rgb(207, 0, 47)"
          ],
          [
           1,
           "rgb(207, 0, 47)"
          ]
         ],
         "showscale": false,
         "sizemode": "absolute",
         "sizeref": 0.2,
         "type": "cone",
         "u": [
          0.5178665886597253
         ],
         "v": [
          0.5786462339034713
         ],
         "w": [
          0.6300656571654005
         ],
         "x": [
          -23.46172524807497
         ],
         "y": [
          0.5786462339034713
         ],
         "z": [
          0.6300656571654005
         ]
        },
        {
         "line": {
          "color": "rgb(41, 0, 213)",
          "width": 6
         },
         "marker": {
          "color": "rgb(41, 0, 213)",
          "size": 4
         },
         "mode": "lines+markers",
         "type": "scatter3d",
         "x": [
          -22.959183673469386,
          -23.416063041157706
         ],
         "y": [
          0,
          -0.5763996891364502
         ],
         "z": [
          0,
          -0.6775135731069347
         ]
        },
        {
         "colorscale": [
          [
           0,
           "rgb(41, 0, 213)"
          ],
          [
           1,
           "rgb(41, 0, 213)"
          ]
         ],
         "showscale": false,
         "sizemode": "absolute",
         "sizeref": 0.2,
         "type": "cone",
         "u": [
          -0.4568793676883185
         ],
         "v": [
          -0.5763996891364502
         ],
         "w": [
          -0.6775135731069347
         ],
         "x": [
          -23.416063041157706
         ],
         "y": [
          -0.5763996891364502
         ],
         "z": [
          -0.6775135731069347
         ]
        },
        {
         "line": {
          "color": "rgb(219, 0, 35)",
          "width": 6
         },
         "marker": {
          "color": "rgb(219, 0, 35)",
          "size": 4
         },
         "mode": "lines+markers",
         "type": "scatter3d",
         "x": [
          -21.93877551020408,
          -21.54900543773585
         ],
         "y": [
          0,
          0.57031782729293
         ],
         "z": [
          0,
          0.7230607626472217
         ]
        },
        {
         "colorscale": [
          [
           0,
           "rgb(219, 0, 35)"
          ],
          [
           1,
           "rgb(219, 0, 35)"
          ]
         ],
         "showscale": false,
         "sizemode": "absolute",
         "sizeref": 0.2,
         "type": "cone",
         "u": [
          0.3897700724682307
         ],
         "v": [
          0.57031782729293
         ],
         "w": [
          0.7230607626472217
         ],
         "x": [
          -21.54900543773585
         ],
         "y": [
          0.57031782729293
         ],
         "z": [
          0.7230607626472217
         ]
        },
        {
         "line": {
          "color": "rgb(30, 0, 224)",
          "width": 6
         },
         "marker": {
          "color": "rgb(30, 0, 224)",
          "size": 4
         },
         "mode": "lines+markers",
         "type": "scatter3d",
         "x": [
          -20.918367346938776,
          -21.24413139247038
         ],
         "y": [
          0,
          -0.5613926755535539
         ],
         "z": [
          0,
          -0.7607338893947778
         ]
        },
        {
         "colorscale": [
          [
           0,
           "rgb(30, 0, 224)"
          ],
          [
           1,
           "rgb(30, 0, 224)"
          ]
         ],
         "showscale": false,
         "sizemode": "absolute",
         "sizeref": 0.2,
         "type": "cone",
         "u": [
          -0.32576404553160276
         ],
         "v": [
          -0.5613926755535539
         ],
         "w": [
          -0.7607338893947778
         ],
         "x": [
          -21.24413139247038
         ],
         "y": [
          -0.5613926755535539
         ],
         "z": [
          -0.7607338893947778
         ]
        },
        {
         "line": {
          "color": "rgb(229, 0, 25)",
          "width": 6
         },
         "marker": {
          "color": "rgb(229, 0, 25)",
          "size": 4
         },
         "mode": "lines+markers",
         "type": "scatter3d",
         "x": [
          -19.89795918367347,
          -19.645081782245928
         ],
         "y": [
          0,
          0.5478680514417034
         ],
         "z": [
          0,
          0.7974293812349305
         ]
        },
        {
         "colorscale": [
          [
           0,
           "rgb(229, 0, 25)"
          ],
          [
           1,
           "rgb(229, 0, 25)"
          ]
         ],
         "showscale": false,
         "sizemode": "absolute",
         "sizeref": 0.2,
         "type": "cone",
         "u": [
          0.2528774014275434
         ],
         "v": [
          0.5478680514417034
         ],
         "w": [
          0.7974293812349305
         ],
         "x": [
          -19.645081782245928
         ],
         "y": [
          0.5478680514417034
         ],
         "z": [
          0.7974293812349305
         ]
        },
        {
         "line": {
          "color": "rgb(22, 0, 232)",
          "width": 6
         },
         "marker": {
          "color": "rgb(22, 0, 232)",
          "size": 4
         },
         "mode": "lines+markers",
         "type": "scatter3d",
         "x": [
          -18.877551020408163,
          -19.065553598955624
         ],
         "y": [
          0,
          -0.533039055323284
         ],
         "z": [
          0,
          -0.824939025601024
         ]
        },
        {
         "colorscale": [
          [
           0,
           "rgb(22, 0, 232)"
          ],
          [
           1,
           "rgb(22, 0, 232)"
          ]
         ],
         "showscale": false,
         "sizemode": "absolute",
         "sizeref": 0.2,
         "type": "cone",
         "u": [
          -0.18800257854746064
         ],
         "v": [
          -0.533039055323284
         ],
         "w": [
          -0.824939025601024
         ],
         "x": [
          -19.065553598955624
         ],
         "y": [
          -0.533039055323284
         ],
         "z": [
          -0.824939025601024
         ]
        },
        {
         "line": {
          "color": "rgb(236, 0, 18)",
          "width": 6
         },
         "marker": {
          "color": "rgb(236, 0, 18)",
          "size": 4
         },
         "mode": "lines+markers",
         "type": "scatter3d",
         "x": [
          -17.857142857142858,
          -17.74562178408843
         ],
         "y": [
          0,
          0.5123723152329317
         ],
         "z": [
          0,
          0.8514914332203435
         ]
        },
        {
         "colorscale": [
          [
           0,
           "rgb(236, 0, 18)"
          ],
          [
           1,
           "rgb(236, 0, 18)"
          ]
         ],
         "showscale": false,
         "sizemode": "absolute",
         "sizeref": 0.2,
         "type": "cone",
         "u": [
          0.11152107305442623
         ],
         "v": [
          0.5123723152329317
         ],
         "w": [
          0.8514914332203435
         ],
         "x": [
          -17.74562178408843
         ],
         "y": [
          0.5123723152329317
         ],
         "z": [
          0.8514914332203435
         ]
        },
        {
         "line": {
          "color": "rgb(16, 0, 238)",
          "width": 6
         },
         "marker": {
          "color": "rgb(16, 0, 238)",
          "size": 4
         },
         "mode": "lines+markers",
         "type": "scatter3d",
         "x": [
          -16.836734693877553,
          -16.88452022294435
         ],
         "y": [
          0,
          -0.49261285386736037
         ],
         "z": [
          0,
          -0.8689356244374269
         ]
        },
        {
         "colorscale": [
          [
           0,
           "rgb(16, 0, 238)"
          ],
          [
           1,
           "rgb(16, 0, 238)"
          ]
         ],
         "showscale": false,
         "sizemode": "absolute",
         "sizeref": 0.2,
         "type": "cone",
         "u": [
          -0.04778552906679614
         ],
         "v": [
          -0.49261285386736037
         ],
         "w": [
          -0.8689356244374269
         ],
         "x": [
          -16.88452022294435
         ],
         "y": [
          -0.49261285386736037
         ],
         "z": [
          -0.8689356244374269
         ]
        },
        {
         "line": {
          "color": "rgb(240, 0, 14)",
          "width": 6
         },
         "marker": {
          "color": "rgb(240, 0, 14)",
          "size": 4
         },
         "mode": "lines+markers",
         "type": "scatter3d",
         "x": [
          -15.816326530612244,
          -15.846283199439574
         ],
         "y": [
          0,
          0.46545181326888674
         ],
         "z": [
          0,
          0.884566112575807
         ]
        },
        {
         "colorscale": [
          [
           0,
           "rgb(240, 0, 14)"
          ],
          [
           1,
           "rgb(240, 0, 14)"
          ]
         ],
         "showscale": false,
         "sizemode": "absolute",
         "sizeref": 0.2,
         "type": "cone",
         "u": [
          -0.029956668827330415
         ],
         "v": [
          0.46545181326888674
         ],
         "w": [
          0.884566112575807
         ],
         "x": [
          -15.846283199439574
         ],
         "y": [
          0.46545181326888674
         ],
         "z": [
          0.884566112575807
         ]
        },
        {
         "line": {
          "color": "rgb(13, 0, 241)",
          "width": 6
         },
         "marker": {
          "color": "rgb(13, 0, 241)",
          "size": 4
         },
         "mode": "lines+markers",
         "type": "scatter3d",
         "x": [
          -14.795918367346939,
          -14.7050898615388
         ],
         "y": [
          0,
          -0.4418433165895283
         ],
         "z": [
          0,
          -0.8924823057729643
         ]
        },
        {
         "colorscale": [
          [
           0,
           "rgb(13, 0, 241)"
          ],
          [
           1,
           "rgb(13, 0, 241)"
          ]
         ],
         "showscale": false,
         "sizemode": "absolute",
         "sizeref": 0.2,
         "type": "cone",
         "u": [
          0.09082850580813866
         ],
         "v": [
          -0.4418433165895283
         ],
         "w": [
          -0.8924823057729643
         ],
         "x": [
          -14.7050898615388
         ],
         "y": [
          -0.4418433165895283
         ],
         "z": [
          -0.8924823057729643
         ]
        },
        {
         "line": {
          "color": "rgb(241, 0, 13)",
          "width": 6
         },
         "marker": {
          "color": "rgb(241, 0, 13)",
          "size": 4
         },
         "mode": "lines+markers",
         "type": "scatter3d",
         "x": [
          -13.775510204081632,
          -13.943055436254808
         ],
         "y": [
          0,
          0.4091154340232017
         ],
         "z": [
          0,
          0.8969688717118584
         ]
        },
        {
         "colorscale": [
          [
           0,
           "rgb(241, 0, 13)"
          ],
          [
           1,
           "rgb(241, 0, 13)"
          ]
         ],
         "showscale": false,
         "sizemode": "absolute",
         "sizeref": 0.2,
         "type": "cone",
         "u": [
          -0.16754523217317518
         ],
         "v": [
          0.4091154340232017
         ],
         "w": [
          0.8969688717118584
         ],
         "x": [
          -13.943055436254808
         ],
         "y": [
          0.4091154340232017
         ],
         "z": [
          0.8969688717118584
         ]
        },
        {
         "line": {
          "color": "rgb(13, 0, 241)",
          "width": 6
         },
         "marker": {
          "color": "rgb(13, 0, 241)",
          "size": 4
         },
         "mode": "lines+markers",
         "type": "scatter3d",
         "x": [
          -12.755102040816325,
          -12.530892731829386
         ],
         "y": [
          0,
          -0.3827484378288104
         ],
         "z": [
          0,
          -0.8962331276532933
         ]
        },
        {
         "colorscale": [
          [
           0,
           "rgb(13, 0, 241)"
          ],
          [
           1,
           "rgb(13, 0, 241)"
          ]
         ],
         "showscale": false,
         "sizemode": "absolute",
         "sizeref": 0.2,
         "type": "cone",
         "u": [
          0.22420930898693922
         ],
         "v": [
          -0.3827484378288104
         ],
         "w": [
          -0.8962331276532933
         ],
         "x": [
          -12.530892731829386
         ],
         "y": [
          -0.3827484378288104
         ],
         "z": [
          -0.8962331276532933
         ]
        },
        {
         "line": {
          "color": "rgb(240, 0, 14)",
          "width": 6
         },
         "marker": {
          "color": "rgb(240, 0, 14)",
          "size": 4
         },
         "mode": "lines+markers",
         "type": "scatter3d",
         "x": [
          -11.73469387755102,
          -12.032532481447195
         ],
         "y": [
          0,
          0.34556138256936225
         ],
         "z": [
          0,
          0.8898761132348304
         ]
        },
        {
         "colorscale": [
          [
           0,
           "rgb(240, 0, 14)"
          ],
          [
           1,
           "rgb(240, 0, 14)"
          ]
         ],
         "showscale": false,
         "sizemode": "absolute",
         "sizeref": 0.2,
         "type": "cone",
         "u": [
          -0.2978386038961743
         ],
         "v": [
          0.34556138256936225
         ],
         "w": [
          0.8898761132348304
         ],
         "x": [
          -12.032532481447195
         ],
         "y": [
          0.34556138256936225
         ],
         "z": [
          0.8898761132348304
         ]
        },
        {
         "line": {
          "color": "rgb(15, 0, 239)",
          "width": 6
         },
         "marker": {
          "color": "rgb(15, 0, 239)",
          "size": 4
         },
         "mode": "lines+markers",
         "type": "scatter3d",
         "x": [
          -10.714285714285714,
          -10.364917004677283
         ],
         "y": [
          0,
          -0.31744721154015576
         ],
         "z": [
          0,
          -0.8815717626103504
         ]
        },
        {
         "colorscale": [
          [
           0,
           "rgb(15, 0, 239)"
          ],
          [
           1,
           "rgb(15, 0, 239)"
          ]
         ],
         "showscale": false,
         "sizemode": "absolute",
         "sizeref": 0.2,
         "type": "cone",
         "u": [
          0.34936870960843014
         ],
         "v": [
          -0.31744721154015576
         ],
         "w": [
          -0.8815717626103504
         ],
         "x": [
          -10.364917004677283
         ],
         "y": [
          -0.31744721154015576
         ],
         "z": [
          -0.8815717626103504
         ]
        },
        {
         "line": {
          "color": "rgb(237, 0, 17)",
          "width": 6
         },
         "marker": {
          "color": "rgb(237, 0, 17)",
          "size": 4
         },
         "mode": "lines+markers",
         "type": "scatter3d",
         "x": [
          -9.693877551020408,
          -10.112073398238925
         ],
         "y": [
          0,
          0.27698040984030414
         ],
         "z": [
          0,
          0.8650977320129123
         ]
        },
        {
         "colorscale": [
          [
           0,
           "rgb(237, 0, 17)"
          ],
          [
           1,
           "rgb(237, 0, 17)"
          ]
         ],
         "showscale": false,
         "sizemode": "absolute",
         "sizeref": 0.2,
         "type": "cone",
         "u": [
          -0.4181958472185164
         ],
         "v": [
          0.27698040984030414
         ],
         "w": [
          0.8650977320129123
         ],
         "x": [
          -10.112073398238925
         ],
         "y": [
          0.27698040984030414
         ],
         "z": [
          0.8650977320129123
         ]
        },
        {
         "line": {
          "color": "rgb(19, 0, 235)",
          "width": 6
         },
         "marker": {
          "color": "rgb(19, 0, 235)",
          "size": 4
         },
         "mode": "lines+markers",
         "type": "scatter3d",
         "x": [
          -8.673469387755102,
          -8.209405886339955
         ],
         "y": [
          0,
          -0.24798742858705963
         ],
         "z": [
          0,
          -0.8503806805878714
         ]
        },
        {
         "colorscale": [
          [
           0,
           "rgb(19, 0, 235)"
          ],
          [
           1,
           "rgb(19, 0, 235)"
          ]
         ],
         "showscale": false,
         "sizemode": "absolute",
         "sizeref": 0.2,
         "type": "cone",
         "u": [
          0.4640635014151477
         ],
         "v": [
          -0.24798742858705963
         ],
         "w": [
          -0.8503806805878714
         ],
         "x": [
          -8.209405886339955
         ],
         "y": [
          -0.24798742858705963
         ],
         "z": [
          -0.8503806805878714
         ]
        },
        {
         "line": {
          "color": "rgb(232, 0, 22)",
          "width": 6
         },
         "marker": {
          "color": "rgb(232, 0, 22)",
          "size": 4
         },
         "mode": "lines+markers",
         "type": "scatter3d",
         "x": [
          -7.653061224489797,
          -8.179840188734055
         ],
         "y": [
          0,
          0.20539543629258156
         ],
         "z": [
          0,
          0.8248130925124345
         ]
        },
        {
         "colorscale": [
          [
           0,
           "rgb(232, 0, 22)"
          ],
          [
           1,
           "rgb(232, 0, 22)"
          ]
         ],
         "showscale": false,
         "sizemode": "absolute",
         "sizeref": 0.2,
         "type": "cone",
         "u": [
          -0.5267789642442589
         ],
         "v": [
          0.20539543629258156
         ],
         "w": [
          0.8248130925124345
         ],
         "x": [
          -8.179840188734055
         ],
         "y": [
          0.20539543629258156
         ],
         "z": [
          0.8248130925124345
         ]
        },
        {
         "line": {
          "color": "rgb(24, 0, 230)",
          "width": 6
         },
         "marker": {
          "color": "rgb(24, 0, 230)",
          "size": 4
         },
         "mode": "lines+markers",
         "type": "scatter3d",
         "x": [
          -6.632653061224488,
          -6.065863323797827
         ],
         "y": [
          0,
          -0.17621575971465475
         ],
         "z": [
          0,
          -0.8047964957528103
         ]
        },
        {
         "colorscale": [
          [
           0,
           "rgb(24, 0, 230)"
          ],
          [
           1,
           "rgb(24, 0, 230)"
          ]
         ],
         "showscale": false,
         "sizemode": "absolute",
         "sizeref": 0.2,
         "type": "cone",
         "u": [
          0.5667897374266612
         ],
         "v": [
          -0.17621575971465475
         ],
         "w": [
          -0.8047964957528103
         ],
         "x": [
          -6.065863323797827
         ],
         "y": [
          -0.17621575971465475
         ],
         "z": [
          -0.8047964957528103
         ]
        },
        {
         "line": {
          "color": "rgb(225, 0, 29)",
          "width": 6
         },
         "marker": {
          "color": "rgb(225, 0, 29)",
          "size": 4
         },
         "mode": "lines+markers",
         "type": "scatter3d",
         "x": [
          -5.612244897959183,
          -6.234732164052064
         ],
         "y": [
          0,
          0.13255694886336866
         ],
         "z": [
          0,
          0.7713224091521296
         ]
        },
        {
         "colorscale": [
          [
           0,
           "rgb(225, 0, 29)"
          ],
          [
           1,
           "rgb(225, 0, 29)"
          ]
         ],
         "showscale": false,
         "sizemode": "absolute",
         "sizeref": 0.2,
         "type": "cone",
         "u": [
          -0.6224872660928809
         ],
         "v": [
          0.13255694886336866
         ],
         "w": [
          0.7713224091521296
         ],
         "x": [
          -6.234732164052064
         ],
         "y": [
          0.13255694886336866
         ],
         "z": [
          0.7713224091521296
         ]
        },
        {
         "line": {
          "color": "rgb(32, 0, 222)",
          "width": 6
         },
         "marker": {
          "color": "rgb(32, 0, 222)",
          "size": 4
         },
         "mode": "lines+markers",
         "type": "scatter3d",
         "x": [
          -4.591836734693878,
          -3.9351437064149724
         ],
         "y": [
          0,
          -0.10370192423103036
         ],
         "z": [
          0,
          -0.7469940947026702
         ]
        },
        {
         "colorscale": [
          [
           0,
           "rgb(32, 0, 222)"
          ],
          [
           1,
           "rgb(32, 0, 222)"
          ]
         ],
         "showscale": false,
         "sizemode": "absolute",
         "sizeref": 0.2,
         "type": "cone",
         "u": [
          0.6566930282789057
         ],
         "v": [
          -0.10370192423103036
         ],
         "w": [
          -0.7469940947026702
         ],
         "x": [
          -3.9351437064149724
         ],
         "y": [
          -0.10370192423103036
         ],
         "z": [
          -0.7469940947026702
         ]
        },
        {
         "line": {
          "color": "rgb(217, 0, 37)",
          "width": 6
         },
         "marker": {
          "color": "rgb(217, 0, 37)",
          "size": 4
         },
         "mode": "lines+markers",
         "type": "scatter3d",
         "x": [
          -3.5714285714285694,
          -4.276252408625551
         ],
         "y": [
          0,
          0.05989714661379542
         ],
         "z": [
          0,
          0.7068491284188226
         ]
        },
        {
         "colorscale": [
          [
           0,
           "rgb(217, 0, 37)"
          ],
          [
           1,
           "rgb(217, 0, 37)"
          ]
         ],
         "showscale": false,
         "sizemode": "absolute",
         "sizeref": 0.2,
         "type": "cone",
         "u": [
          -0.7048238371969809
         ],
         "v": [
          0.05989714661379542
         ],
         "w": [
          0.7068491284188226
         ],
         "x": [
          -4.276252408625551
         ],
         "y": [
          0.05989714661379542
         ],
         "z": [
          0.7068491284188226
         ]
        },
        {
         "line": {
          "color": "rgb(40, 0, 214)",
          "width": 6
         },
         "marker": {
          "color": "rgb(40, 0, 214)",
          "size": 4
         },
         "mode": "lines+markers",
         "type": "scatter3d",
         "x": [
          -2.5510204081632644,
          -1.8175909545226498
         ],
         "y": [
          0,
          -0.03171504821244698
         ],
         "z": [
          0,
          -0.679025325189946
         ]
        },
        {
         "colorscale": [
          [
           0,
           "rgb(40, 0, 214)"
          ],
          [
           1,
           "rgb(40, 0, 214)"
          ]
         ],
         "showscale": false,
         "sizemode": "absolute",
         "sizeref": 0.2,
         "type": "cone",
         "u": [
          0.7334294536406145
         ],
         "v": [
          -0.03171504821244698
         ],
         "w": [
          -0.679025325189946
         ],
         "x": [
          -1.8175909545226498
         ],
         "y": [
          -0.03171504821244698
         ],
         "z": [
          -0.679025325189946
         ]
        },
        {
         "line": {
          "color": "rgb(208, 0, 46)",
          "width": 6
         },
         "marker": {
          "color": "rgb(208, 0, 46)",
          "size": 4
         },
         "mode": "lines+markers",
         "type": "scatter3d",
         "x": [
          -1.5306122448979593,
          -2.3043445277305246
         ],
         "y": [
          0,
          -0.011466202989531691
         ],
         "z": [
          0,
          0.6334089363844735
         ]
        },
        {
         "colorscale": [
          [
           0,
           "rgb(208, 0, 46)"
          ],
          [
           1,
           "rgb(208, 0, 46)"
          ]
         ],
         "showscale": false,
         "sizemode": "absolute",
         "sizeref": 0.2,
         "type": "cone",
         "u": [
          -0.7737322828325653
         ],
         "v": [
          -0.011466202989531691
         ],
         "w": [
          0.6334089363844735
         ],
         "x": [
          -2.3043445277305246
         ],
         "y": [
          -0.011466202989531691
         ],
         "z": [
          0.6334089363844735
         ]
        },
        {
         "line": {
          "color": "rgb(50, 0, 204)",
          "width": 6
         },
         "marker": {
          "color": "rgb(50, 0, 204)",
          "size": 4
         },
         "mode": "lines+markers",
         "type": "scatter3d",
         "x": [
          -0.5102040816326507,
          0.28680633784029264
         ],
         "y": [
          0,
          0.038758516840837226
         ],
         "z": [
          0,
          -0.6027206389562758
         ]
        },
        {
         "colorscale": [
          [
           0,
           "rgb(50, 0, 204)"
          ],
          [
           1,
           "rgb(50, 0, 204)"
          ]
         ],
         "showscale": false,
         "sizemode": "absolute",
         "sizeref": 0.2,
         "type": "cone",
         "u": [
          0.7970104194729434
         ],
         "v": [
          0.038758516840837226
         ],
         "w": [
          -0.6027206389562758
         ],
         "x": [
          0.28680633784029264
         ],
         "y": [
          0.038758516840837226
         ],
         "z": [
          -0.6027206389562758
         ]
        },
        {
         "line": {
          "color": "rgb(197, 0, 57)",
          "width": 6
         },
         "marker": {
          "color": "rgb(197, 0, 57)",
          "size": 4
         },
         "mode": "lines+markers",
         "type": "scatter3d",
         "x": [
          0.5102040816326543,
          -0.31923094483624137
         ],
         "y": [
          0,
          -0.08069100093496374
         ],
         "z": [
          0,
          0.5527445153365668
         ]
        },
        {
         "colorscale": [
          [
           0,
           "rgb(197, 0, 57)"
          ],
          [
           1,
           "rgb(197, 0, 57)"
          ]
         ],
         "showscale": false,
         "sizemode": "absolute",
         "sizeref": 0.2,
         "type": "cone",
         "u": [
          -0.8294350264688957
         ],
         "v": [
          -0.08069100093496374
         ],
         "w": [
          0.5527445153365668
         ],
         "x": [
          -0.31923094483624137
         ],
         "y": [
          -0.08069100093496374
         ],
         "z": [
          0.5527445153365668
         ]
        },
        {
         "line": {
          "color": "rgb(61, 0, 193)",
          "width": 6
         },
         "marker": {
          "color": "rgb(61, 0, 193)",
          "size": 4
         },
         "mode": "lines+markers",
         "type": "scatter3d",
         "x": [
          1.5306122448979593,
          2.378269120005476
         ],
         "y": [
          0,
          0.10697002180522541
         ],
         "z": [
          0,
          -0.5196491475196986
         ]
        },
        {
         "colorscale": [
          [
           0,
           "rgb(61, 0, 193)"
          ],
          [
           1,
           "rgb(61, 0, 193)"
          ]
         ],
         "showscale": false,
         "sizemode": "absolute",
         "sizeref": 0.2,
         "type": "cone",
         "u": [
          0.8476568751075167
         ],
         "v": [
          0.10697002180522541
         ],
         "w": [
          -0.5196491475196986
         ],
         "x": [
          2.378269120005476
         ],
         "y": [
          0.10697002180522541
         ],
         "z": [
          -0.5196491475196986
         ]
        },
        {
         "line": {
          "color": "rgb(186, 0, 68)",
          "width": 6
         },
         "marker": {
          "color": "rgb(186, 0, 68)",
          "size": 4
         },
         "mode": "lines+markers",
         "type": "scatter3d",
         "x": [
          2.5510204081632644,
          1.678726704199505
         ],
         "y": [
          0,
          -0.14715244915802153
         ],
         "z": [
          0,
          0.4663151838960221
         ]
        },
        {
         "colorscale": [
          [
           0,
           "rgb(186, 0, 68)"
          ],
          [
           1,
           "rgb(186, 0, 68)"
          ]
         ],
         "showscale": false,
         "sizemode": "absolute",
         "sizeref": 0.2,
         "type": "cone",
         "u": [
          -0.8722937039637594
         ],
         "v": [
          -0.14715244915802153
         ],
         "w": [
          0.4663151838960221
         ],
         "x": [
          1.678726704199505
         ],
         "y": [
          -0.14715244915802153
         ],
         "z": [
          0.4663151838960221
         ]
        },
        {
         "line": {
          "color": "rgb(72, 0, 182)",
          "width": 6
         },
         "marker": {
          "color": "rgb(72, 0, 182)",
          "size": 4
         },
         "mode": "lines+markers",
         "type": "scatter3d",
         "x": [
          3.571428571428573,
          4.45710712913397
         ],
         "y": [
          0,
          0.1723492289004264
         ],
         "z": [
          0,
          -0.43112554519341106
         ]
        },
        {
         "colorscale": [
          [
           0,
           "rgb(72, 0, 182)"
          ],
          [
           1,
           "rgb(72, 0, 182)"
          ]
         ],
         "showscale": false,
         "sizemode": "absolute",
         "sizeref": 0.2,
         "type": "cone",
         "u": [
          0.885678557705397
         ],
         "v": [
          0.1723492289004264
         ],
         "w": [
          -0.43112554519341106
         ],
         "x": [
          4.45710712913397
         ],
         "y": [
          0.1723492289004264
         ],
         "z": [
          -0.43112554519341106
         ]
        },
        {
         "line": {
          "color": "rgb(175, 0, 79)",
          "width": 6
         },
         "marker": {
          "color": "rgb(175, 0, 79)",
          "size": 4
         },
         "mode": "lines+markers",
         "type": "scatter3d",
         "x": [
          4.591836734693878,
          3.689134666133185
         ],
         "y": [
          0,
          -0.2103778109015306
         ],
         "z": [
          0,
          0.3753267271278808
         ]
        },
        {
         "colorscale": [
          [
           0,
           "rgb(175, 0, 79)"
          ],
          [
           1,
           "rgb(175, 0, 79)"
          ]
         ],
         "showscale": false,
         "sizemode": "absolute",
         "sizeref": 0.2,
         "type": "cone",
         "u": [
          -0.9027020685606926
         ],
         "v": [
          -0.2103778109015306
         ],
         "w": [
          0.3753267271278808
         ],
         "x": [
          3.689134666133185
         ],
         "y": [
          -0.2103778109015306
         ],
         "z": [
          0.3753267271278808
         ]
        },
        {
         "line": {
          "color": "rgb(84, 0, 170)",
          "width": 6
         },
         "marker": {
          "color": "rgb(84, 0, 170)",
          "size": 4
         },
         "mode": "lines+markers",
         "type": "scatter3d",
         "x": [
          5.612244897959183,
          6.52363045590149
         ],
         "y": [
          0,
          0.2344421169289831
         ],
         "z": [
          0,
          -0.33825028985064853
         ]
        },
        {
         "colorscale": [
          [
           0,
           "rgb(84, 0, 170)"
          ],
          [
           1,
           "rgb(84, 0, 170)"
          ]
         ],
         "showscale": false,
         "sizemode": "absolute",
         "sizeref": 0.2,
         "type": "cone",
         "u": [
          0.9113855579423065
         ],
         "v": [
          0.2344421169289831
         ],
         "w": [
          -0.33825028985064853
         ],
         "x": [
          6.52363045590149
         ],
         "y": [
          0.2344421169289831
         ],
         "z": [
          -0.33825028985064853
         ]
        },
        {
         "line": {
          "color": "rgb(163, 0, 91)",
          "width": 6
         },
         "marker": {
          "color": "rgb(163, 0, 91)",
          "size": 4
         },
         "mode": "lines+markers",
         "type": "scatter3d",
         "x": [
          6.632653061224492,
          5.711638639435805
         ],
         "y": [
          0,
          -0.26998346947067675
         ],
         "z": [
          0,
          0.28078703864286164
         ]
        },
        {
         "colorscale": [
          [
           0,
           "rgb(163, 0, 91)"
          ],
          [
           1,
           "rgb(163, 0, 91)"
          ]
         ],
         "showscale": false,
         "sizemode": "absolute",
         "sizeref": 0.2,
         "type": "cone",
         "u": [
          -0.9210144217886864
         ],
         "v": [
          -0.26998346947067675
         ],
         "w": [
          0.28078703864286164
         ],
         "x": [
          5.711638639435805
         ],
         "y": [
          -0.26998346947067675
         ],
         "z": [
          0.28078703864286164
         ]
        },
        {
         "line": {
          "color": "rgb(96, 0, 158)",
          "width": 6
         },
         "marker": {
          "color": "rgb(96, 0, 158)",
          "size": 4
         },
         "mode": "lines+markers",
         "type": "scatter3d",
         "x": [
          7.653061224489797,
          8.578094999059559
         ],
         "y": [
          0,
          0.29285297672637106
         ],
         "z": [
          0,
          -0.24197034927387523
         ]
        },
        {
         "colorscale": [
          [
           0,
           "rgb(96, 0, 158)"
          ],
          [
           1,
           "rgb(96, 0, 158)"
          ]
         ],
         "showscale": false,
         "sizemode": "absolute",
         "sizeref": 0.2,
         "type": "cone",
         "u": [
          0.9250337745697627
         ],
         "v": [
          0.29285297672637106
         ],
         "w": [
          -0.24197034927387523
         ],
         "x": [
          8.578094999059559
         ],
         "y": [
          0.29285297672637106
         ],
         "z": [
          -0.24197034927387523
         ]
        },
        {
         "line": {
          "color": "rgb(150, 0, 104)",
          "width": 6
         },
         "marker": {
          "color": "rgb(150, 0, 104)",
          "size": 4
         },
         "mode": "lines+markers",
         "type": "scatter3d",
         "x": [
          8.673469387755105,
          7.745961158983516
         ],
         "y": [
          0,
          -0.32562024346322593
         ],
         "z": [
          0,
          0.18357544118955213
         ]
        },
        {
         "colorscale": [
          [
           0,
           "rgb(150, 0, 104)"
          ],
          [
           1,
           "rgb(150, 0, 104)"
          ]
         ],
         "showscale": false,
         "sizemode": "absolute",
         "sizeref": 0.2,
         "type": "cone",
         "u": [
          -0.9275082287715892
         ],
         "v": [
          -0.32562024346322593
         ],
         "w": [
          0.18357544118955213
         ],
         "x": [
          7.745961158983516
         ],
         "y": [
          -0.32562024346322593
         ],
         "z": [
          0.18357544118955213
         ]
        },
        {
         "line": {
          "color": "rgb(109, 0, 145)",
          "width": 6
         },
         "marker": {
          "color": "rgb(109, 0, 145)",
          "size": 4
         },
         "mode": "lines+markers",
         "type": "scatter3d",
         "x": [
          9.693877551020407,
          10.620680179165088
         ],
         "y": [
          0,
          0.3471959123287061
         ],
         "z": [
          0,
          -0.14314987574689075
         ]
        },
        {
         "colorscale": [
          [
           0,
           "rgb(109, 0, 145)"
          ],
          [
           1,
           "rgb(109, 0, 145)"
          ]
         ],
         "showscale": false,
         "sizemode": "absolute",
         "sizeref": 0.2,
         "type": "cone",
         "u": [
          0.9268026281446807
         ],
         "v": [
          0.3471959123287061
         ],
         "w": [
          -0.14314987574689075
         ],
         "x": [
          10.620680179165088
         ],
         "y": [
          0.3471959123287061
         ],
         "z": [
          -0.14314987574689075
         ]
        },
        {
         "line": {
          "color": "rgb(138, 0, 116)",
          "width": 6
         },
         "marker": {
          "color": "rgb(138, 0, 116)",
          "size": 4
         },
         "mode": "lines+markers",
         "type": "scatter3d",
         "x": [
          10.714285714285715,
          9.791908165610034
         ],
         "y": [
          0,
          -0.3769306160917248
         ],
         "z": [
          0,
          0.08451608339098936
         ]
        },
        {
         "colorscale": [
          [
           0,
           "rgb(138, 0, 116)"
          ],
          [
           1,
           "rgb(138, 0, 116)"
          ]
         ],
         "showscale": false,
         "sizemode": "absolute",
         "sizeref": 0.2,
         "type": "cone",
         "u": [
          -0.922377548675682
         ],
         "v": [
          -0.3769306160917248
         ],
         "w": [
          0.08451608339098936
         ],
         "x": [
          9.791908165610034
         ],
         "y": [
          -0.3769306160917248
         ],
         "z": [
          0.08451608339098936
         ]
        },
        {
         "line": {
          "color": "rgb(122, 0, 132)",
          "width": 6
         },
         "marker": {
          "color": "rgb(122, 0, 132)",
          "size": 4
         },
         "mode": "lines+markers",
         "type": "scatter3d",
         "x": [
          11.734693877551024,
          12.651495806027677
         ],
         "y": [
          0,
          0.39705902999192894
         ],
         "z": [
          0,
          -0.04264212287584127
         ]
        },
        {
         "colorscale": [
          [
           0,
           "rgb(122, 0, 132)"
          ],
          [
           1,
           "rgb(122, 0, 132)"
          ]
         ],
         "showscale": false,
         "sizemode": "absolute",
         "sizeref": 0.2,
         "type": "cone",
         "u": [
          0.9168019284766532
         ],
         "v": [
          0.39705902999192894
         ],
         "w": [
          -0.04264212287584127
         ],
         "x": [
          12.651495806027677
         ],
         "y": [
          0.39705902999192894
         ],
         "z": [
          -0.04264212287584127
         ]
        },
        {
         "line": {
          "color": "rgb(125, 0, 129)",
          "width": 6
         },
         "marker": {
          "color": "rgb(125, 0, 129)",
          "size": 4
         },
         "mode": "lines+markers",
         "type": "scatter3d",
         "x": [
          12.755102040816325,
          11.849348868596708
         ],
         "y": [
          0,
          -0.423520150992469
         ],
         "z": [
          0,
          -0.015552257630831097
         ]
        },
        {
         "colorscale": [
          [
           0,
           "rgb(125, 0, 129)"
          ],
          [
           1,
           "rgb(125, 0, 129)"
          ]
         ],
         "showscale": false,
         "sizemode": "absolute",
         "sizeref": 0.2,
         "type": "cone",
         "u": [
          -0.9057531722196177
         ],
         "v": [
          -0.423520150992469
         ],
         "w": [
          -0.015552257630831097
         ],
         "x": [
          11.849348868596708
         ],
         "y": [
          -0.423520150992469
         ],
         "z": [
          -0.015552257630831097
         ]
        },
        {
         "line": {
          "color": "rgb(134, 0, 120)",
          "width": 6
         },
         "marker": {
          "color": "rgb(134, 0, 120)",
          "size": 4
         },
         "mode": "lines+markers",
         "type": "scatter3d",
         "x": [
          13.775510204081634,
          14.670614278475727
         ],
         "y": [
          0,
          0.44198357759461737
         ],
         "z": [
          0,
          0.058644804882938356
         ]
        },
        {
         "colorscale": [
          [
           0,
           "rgb(134, 0, 120)"
          ],
          [
           1,
           "rgb(134, 0, 120)"
          ]
         ],
         "showscale": false,
         "sizemode": "absolute",
         "sizeref": 0.2,
         "type": "cone",
         "u": [
          0.8951040743940926
         ],
         "v": [
          0.44198357759461737
         ],
         "w": [
          0.058644804882938356
         ],
         "x": [
          14.670614278475727
         ],
         "y": [
          0.44198357759461737
         ],
         "z": [
          0.058644804882938356
         ]
        },
        {
         "line": {
          "color": "rgb(112, 0, 142)",
          "width": 6
         },
         "marker": {
          "color": "rgb(112, 0, 142)",
          "size": 4
         },
         "mode": "lines+markers",
         "type": "scatter3d",
         "x": [
          14.795918367346943,
          13.918173409951118
         ],
         "y": [
          0,
          -0.4649445897807483
         ],
         "z": [
          0,
          -0.11571654246396146
         ]
        },
        {
         "colorscale": [
          [
           0,
           "rgb(112, 0, 142)"
          ],
          [
           1,
           "rgb(112, 0, 142)"
          ]
         ],
         "showscale": false,
         "sizemode": "absolute",
         "sizeref": 0.2,
         "type": "cone",
         "u": [
          -0.8777449573958246
         ],
         "v": [
          -0.4649445897807483
         ],
         "w": [
          -0.11571654246396146
         ],
         "x": [
          13.918173409951118
         ],
         "y": [
          -0.4649445897807483
         ],
         "z": [
          -0.11571654246396146
         ]
        },
        {
         "line": {
          "color": "rgb(147, 0, 107)",
          "width": 6
         },
         "marker": {
          "color": "rgb(147, 0, 107)",
          "size": 4
         },
         "mode": "lines+markers",
         "type": "scatter3d",
         "x": [
          15.816326530612244,
          16.678123530673883
         ],
         "y": [
          0,
          0.48145963004532155
         ],
         "z": [
          0,
          0.15969519504788046
         ]
        },
        {
         "colorscale": [
          [
           0,
           "rgb(147, 0, 107)"
          ],
          [
           1,
           "rgb(147, 0, 107)"
          ]
         ],
         "showscale": false,
         "sizemode": "absolute",
         "sizeref": 0.2,
         "type": "cone",
         "u": [
          0.8617970000616396
         ],
         "v": [
          0.48145963004532155
         ],
         "w": [
          0.15969519504788046
         ],
         "x": [
          16.678123530673883
         ],
         "y": [
          0.48145963004532155
         ],
         "z": [
          0.15969519504788046
         ]
        },
        {
         "line": {
          "color": "rgb(100, 0, 154)",
          "width": 6
         },
         "marker": {
          "color": "rgb(100, 0, 154)",
          "size": 4
         },
         "mode": "lines+markers",
         "type": "scatter3d",
         "x": [
          16.836734693877553,
          15.998233567694918
         ],
         "y": [
          0,
          -0.5007135294031082
         ],
         "z": [
          0,
          -0.21494609292363673
         ]
        },
        {
         "colorscale": [
          [
           0,
           "rgb(100, 0, 154)"
          ],
          [
           1,
           "rgb(100, 0, 154)"
          ]
         ],
         "showscale": false,
         "sizemode": "absolute",
         "sizeref": 0.2,
         "type": "cone",
         "u": [
          -0.8385011261826343
         ],
         "v": [
          -0.5007135294031082
         ],
         "w": [
          -0.21494609292363673
         ],
         "x": [
          15.998233567694918
         ],
         "y": [
          -0.5007135294031082
         ],
         "z": [
          -0.21494609292363673
         ]
        },
        {
         "line": {
          "color": "rgb(160, 0, 94)",
          "width": 6
         },
         "marker": {
          "color": "rgb(160, 0, 94)",
          "size": 4
         },
         "mode": "lines+markers",
         "type": "scatter3d",
         "x": [
          17.85714285714286,
          18.674194831370766
         ],
         "y": [
          0,
          0.5149391674870332
         ],
         "z": [
          0,
          0.2593525114550573
         ]
        },
        {
         "colorscale": [
          [
           0,
           "rgb(160, 0, 94)"
          ],
          [
           1,
           "rgb(160, 0, 94)"
          ]
         ],
         "showscale": false,
         "sizemode": "absolute",
         "sizeref": 0.2,
         "type": "cone",
         "u": [
          0.817051974227904
         ],
         "v": [
          0.5149391674870332
         ],
         "w": [
          0.2593525114550573
         ],
         "x": [
          18.674194831370766
         ],
         "y": [
          0.5149391674870332
         ],
         "z": [
          0.2593525114550573
         ]
        },
        {
         "line": {
          "color": "rgb(87, 0, 167)",
          "width": 6
         },
         "marker": {
          "color": "rgb(87, 0, 167)",
          "size": 4
         },
         "mode": "lines+markers",
         "type": "scatter3d",
         "x": [
          18.877551020408163,
          18.089273084140014
         ],
         "y": [
          0,
          -0.5303107433463208
         ],
         "z": [
          0,
          -0.31207116285280884
         ]
        },
        {
         "colorscale": [
          [
           0,
           "rgb(87, 0, 167)"
          ],
          [
           1,
           "rgb(87, 0, 167)"
          ]
         ],
         "showscale": false,
         "sizemode": "absolute",
         "sizeref": 0.2,
         "type": "cone",
         "u": [
          -0.7882779362681468
         ],
         "v": [
          -0.5303107433463208
         ],
         "w": [
          -0.31207116285280884
         ],
         "x": [
          18.089273084140014
         ],
         "y": [
          -0.5303107433463208
         ],
         "z": [
          -0.31207116285280884
         ]
        },
        {
         "line": {
          "color": "rgb(172, 0, 82)",
          "width": 6
         },
         "marker": {
          "color": "rgb(172, 0, 82)",
          "size": 4
         },
         "mode": "lines+markers",
         "type": "scatter3d",
         "x": [
          19.89795918367347,
          20.659157602580237
         ],
         "y": [
          0,
          0.5418661812917946
         ],
         "z": [
          0,
          0.3563116734350528
         ]
        },
        {
         "colorscale": [
          [
           0,
           "rgb(172, 0, 82)"
          ],
          [
           1,
           "rgb(172, 0, 82)"
          ]
         ],
         "showscale": false,
         "sizemode": "absolute",
         "sizeref": 0.2,
         "type": "cone",
         "u": [
          0.761198418906766
         ],
         "v": [
          0.5418661812917946
         ],
         "w": [
          0.3563116734350528
         ],
         "x": [
          20.659157602580237
         ],
         "y": [
          0.5418661812917946
         ],
         "z": [
          0.3563116734350528
         ]
        },
        {
         "line": {
          "color": "rgb(75, 0, 179)",
          "width": 6
         },
         "marker": {
          "color": "rgb(75, 0, 179)",
          "size": 4
         },
         "mode": "lines+markers",
         "type": "scatter3d",
         "x": [
          20.91836734693878,
          20.190856048483433
         ],
         "y": [
          0,
          -0.5532298444532102
         ],
         "z": [
          0,
          -0.40578818344807627
         ]
        },
        {
         "colorscale": [
          [
           0,
           "rgb(75, 0, 179)"
          ],
          [
           1,
           "rgb(75, 0, 179)"
          ]
         ],
         "showscale": false,
         "sizemode": "absolute",
         "sizeref": 0.2,
         "type": "cone",
         "u": [
          -0.7275112984553486
         ],
         "v": [
          -0.5532298444532102
         ],
         "w": [
          -0.40578818344807627
         ],
         "x": [
          20.190856048483433
         ],
         "y": [
          -0.5532298444532102
         ],
         "z": [
          -0.40578818344807627
         ]
        },
        {
         "line": {
          "color": "rgb(184, 0, 70)",
          "width": 6
         },
         "marker": {
          "color": "rgb(184, 0, 70)",
          "size": 4
         },
         "mode": "lines+markers",
         "type": "scatter3d",
         "x": [
          21.93877551020408,
          22.63357122295363
         ],
         "y": [
          0,
          0.5617215658527447
         ],
         "z": [
          0,
          0.449141180477574
         ]
        },
        {
         "colorscale": [
          [
           0,
           "rgb(184, 0, 70)"
          ],
          [
           1,
           "rgb(184, 0, 70)"
          ]
         ],
         "showscale": false,
         "sizemode": "absolute",
         "sizeref": 0.2,
         "type": "cone",
         "u": [
          0.6947957127495477
         ],
         "v": [
          0.5617215658527447
         ],
         "w": [
          0.449141180477574
         ],
         "x": [
          22.63357122295363
         ],
         "y": [
          0.5617215658527447
         ],
         "z": [
          0.449141180477574
         ]
        },
        {
         "line": {
          "color": "rgb(64, 0, 190)",
          "width": 6
         },
         "marker": {
          "color": "rgb(64, 0, 190)",
          "size": 4
         },
         "mode": "lines+markers",
         "type": "scatter3d",
         "x": [
          22.95918367346939,
          22.302303555002787
         ],
         "y": [
          0,
          -0.5690220217297306
         ],
         "z": [
          0,
          -0.494694298279161
         ]
        },
        {
         "colorscale": [
          [
           0,
           "rgb(64, 0, 190)"
          ],
          [
           1,
           "rgb(64, 0, 190)"
          ]
         ],
         "showscale": false,
         "sizemode": "absolute",
         "sizeref": 0.2,
         "type": "cone",
         "u": [
          -0.6568801184666032
         ],
         "v": [
          -0.5690220217297306
         ],
         "w": [
          -0.494694298279161
         ],
         "x": [
          22.302303555002787
         ],
         "y": [
          -0.5690220217297306
         ],
         "z": [
          -0.494694298279161
         ]
        },
        {
         "line": {
          "color": "rgb(195, 0, 59)",
          "width": 6
         },
         "marker": {
          "color": "rgb(195, 0, 59)",
          "size": 4
         },
         "mode": "lines+markers",
         "type": "scatter3d",
         "x": [
          23.9795918367347,
          24.598282118613223
         ],
         "y": [
          0,
          0.5740781107937165
         ],
         "z": [
          0,
          0.5363363290106212
         ]
        },
        {
         "colorscale": [
          [
           0,
           "rgb(195, 0, 59)"
          ],
          [
           1,
           "rgb(195, 0, 59)"
          ]
         ],
         "showscale": false,
         "sizemode": "absolute",
         "sizeref": 0.2,
         "type": "cone",
         "u": [
          0.6186902818785246
         ],
         "v": [
          0.5740781107937165
         ],
         "w": [
          0.5363363290106212
         ],
         "x": [
          24.598282118613223
         ],
         "y": [
          0.5740781107937165
         ],
         "z": [
          0.5363363290106212
         ]
        },
        {
         "line": {
          "color": "rgb(53, 0, 201)",
          "width": 6
         },
         "marker": {
          "color": "rgb(53, 0, 201)",
          "size": 4
         },
         "mode": "lines+markers",
         "type": "scatter3d",
         "x": [
          25,
          24.422649730810374
         ],
         "y": [
          0,
          -0.5773502691896257
         ],
         "z": [
          0,
          -0.5773502691896257
         ]
        },
        {
         "colorscale": [
          [
           0,
           "rgb(53, 0, 201)"
          ],
          [
           1,
           "rgb(53, 0, 201)"
          ]
         ],
         "showscale": false,
         "sizemode": "absolute",
         "sizeref": 0.2,
         "type": "cone",
         "u": [
          -0.5773502691896257
         ],
         "v": [
          -0.5773502691896257
         ],
         "w": [
          -0.5773502691896257
         ],
         "x": [
          24.422649730810374
         ],
         "y": [
          -0.5773502691896257
         ],
         "z": [
          -0.5773502691896257
         ]
        }
       ],
       "layout": {
        "height": 800,
        "scene": {
         "xaxis": {
          "range": [
           -30,
           30
          ],
          "title": {
           "text": "X"
          }
         },
         "yaxis": {
          "range": [
           -1,
           1
          ],
          "title": {
           "text": "Y"
          }
         },
         "zaxis": {
          "range": [
           -1,
           1
          ],
          "title": {
           "text": "Z"
          }
         }
        },
        "template": {
         "data": {
          "bar": [
           {
            "error_x": {
             "color": "#2a3f5f"
            },
            "error_y": {
             "color": "#2a3f5f"
            },
            "marker": {
             "line": {
              "color": "#E5ECF6",
              "width": 0.5
             },
             "pattern": {
              "fillmode": "overlay",
              "size": 10,
              "solidity": 0.2
             }
            },
            "type": "bar"
           }
          ],
          "barpolar": [
           {
            "marker": {
             "line": {
              "color": "#E5ECF6",
              "width": 0.5
             },
             "pattern": {
              "fillmode": "overlay",
              "size": 10,
              "solidity": 0.2
             }
            },
            "type": "barpolar"
           }
          ],
          "carpet": [
           {
            "aaxis": {
             "endlinecolor": "#2a3f5f",
             "gridcolor": "white",
             "linecolor": "white",
             "minorgridcolor": "white",
             "startlinecolor": "#2a3f5f"
            },
            "baxis": {
             "endlinecolor": "#2a3f5f",
             "gridcolor": "white",
             "linecolor": "white",
             "minorgridcolor": "white",
             "startlinecolor": "#2a3f5f"
            },
            "type": "carpet"
           }
          ],
          "choropleth": [
           {
            "colorbar": {
             "outlinewidth": 0,
             "ticks": ""
            },
            "type": "choropleth"
           }
          ],
          "contour": [
           {
            "colorbar": {
             "outlinewidth": 0,
             "ticks": ""
            },
            "colorscale": [
             [
              0,
              "#0d0887"
             ],
             [
              0.1111111111111111,
              "#46039f"
             ],
             [
              0.2222222222222222,
              "#7201a8"
             ],
             [
              0.3333333333333333,
              "#9c179e"
             ],
             [
              0.4444444444444444,
              "#bd3786"
             ],
             [
              0.5555555555555556,
              "#d8576b"
             ],
             [
              0.6666666666666666,
              "#ed7953"
             ],
             [
              0.7777777777777778,
              "#fb9f3a"
             ],
             [
              0.8888888888888888,
              "#fdca26"
             ],
             [
              1,
              "#f0f921"
             ]
            ],
            "type": "contour"
           }
          ],
          "contourcarpet": [
           {
            "colorbar": {
             "outlinewidth": 0,
             "ticks": ""
            },
            "type": "contourcarpet"
           }
          ],
          "heatmap": [
           {
            "colorbar": {
             "outlinewidth": 0,
             "ticks": ""
            },
            "colorscale": [
             [
              0,
              "#0d0887"
             ],
             [
              0.1111111111111111,
              "#46039f"
             ],
             [
              0.2222222222222222,
              "#7201a8"
             ],
             [
              0.3333333333333333,
              "#9c179e"
             ],
             [
              0.4444444444444444,
              "#bd3786"
             ],
             [
              0.5555555555555556,
              "#d8576b"
             ],
             [
              0.6666666666666666,
              "#ed7953"
             ],
             [
              0.7777777777777778,
              "#fb9f3a"
             ],
             [
              0.8888888888888888,
              "#fdca26"
             ],
             [
              1,
              "#f0f921"
             ]
            ],
            "type": "heatmap"
           }
          ],
          "heatmapgl": [
           {
            "colorbar": {
             "outlinewidth": 0,
             "ticks": ""
            },
            "colorscale": [
             [
              0,
              "#0d0887"
             ],
             [
              0.1111111111111111,
              "#46039f"
             ],
             [
              0.2222222222222222,
              "#7201a8"
             ],
             [
              0.3333333333333333,
              "#9c179e"
             ],
             [
              0.4444444444444444,
              "#bd3786"
             ],
             [
              0.5555555555555556,
              "#d8576b"
             ],
             [
              0.6666666666666666,
              "#ed7953"
             ],
             [
              0.7777777777777778,
              "#fb9f3a"
             ],
             [
              0.8888888888888888,
              "#fdca26"
             ],
             [
              1,
              "#f0f921"
             ]
            ],
            "type": "heatmapgl"
           }
          ],
          "histogram": [
           {
            "marker": {
             "pattern": {
              "fillmode": "overlay",
              "size": 10,
              "solidity": 0.2
             }
            },
            "type": "histogram"
           }
          ],
          "histogram2d": [
           {
            "colorbar": {
             "outlinewidth": 0,
             "ticks": ""
            },
            "colorscale": [
             [
              0,
              "#0d0887"
             ],
             [
              0.1111111111111111,
              "#46039f"
             ],
             [
              0.2222222222222222,
              "#7201a8"
             ],
             [
              0.3333333333333333,
              "#9c179e"
             ],
             [
              0.4444444444444444,
              "#bd3786"
             ],
             [
              0.5555555555555556,
              "#d8576b"
             ],
             [
              0.6666666666666666,
              "#ed7953"
             ],
             [
              0.7777777777777778,
              "#fb9f3a"
             ],
             [
              0.8888888888888888,
              "#fdca26"
             ],
             [
              1,
              "#f0f921"
             ]
            ],
            "type": "histogram2d"
           }
          ],
          "histogram2dcontour": [
           {
            "colorbar": {
             "outlinewidth": 0,
             "ticks": ""
            },
            "colorscale": [
             [
              0,
              "#0d0887"
             ],
             [
              0.1111111111111111,
              "#46039f"
             ],
             [
              0.2222222222222222,
              "#7201a8"
             ],
             [
              0.3333333333333333,
              "#9c179e"
             ],
             [
              0.4444444444444444,
              "#bd3786"
             ],
             [
              0.5555555555555556,
              "#d8576b"
             ],
             [
              0.6666666666666666,
              "#ed7953"
             ],
             [
              0.7777777777777778,
              "#fb9f3a"
             ],
             [
              0.8888888888888888,
              "#fdca26"
             ],
             [
              1,
              "#f0f921"
             ]
            ],
            "type": "histogram2dcontour"
           }
          ],
          "mesh3d": [
           {
            "colorbar": {
             "outlinewidth": 0,
             "ticks": ""
            },
            "type": "mesh3d"
           }
          ],
          "parcoords": [
           {
            "line": {
             "colorbar": {
              "outlinewidth": 0,
              "ticks": ""
             }
            },
            "type": "parcoords"
           }
          ],
          "pie": [
           {
            "automargin": true,
            "type": "pie"
           }
          ],
          "scatter": [
           {
            "fillpattern": {
             "fillmode": "overlay",
             "size": 10,
             "solidity": 0.2
            },
            "type": "scatter"
           }
          ],
          "scatter3d": [
           {
            "line": {
             "colorbar": {
              "outlinewidth": 0,
              "ticks": ""
             }
            },
            "marker": {
             "colorbar": {
              "outlinewidth": 0,
              "ticks": ""
             }
            },
            "type": "scatter3d"
           }
          ],
          "scattercarpet": [
           {
            "marker": {
             "colorbar": {
              "outlinewidth": 0,
              "ticks": ""
             }
            },
            "type": "scattercarpet"
           }
          ],
          "scattergeo": [
           {
            "marker": {
             "colorbar": {
              "outlinewidth": 0,
              "ticks": ""
             }
            },
            "type": "scattergeo"
           }
          ],
          "scattergl": [
           {
            "marker": {
             "colorbar": {
              "outlinewidth": 0,
              "ticks": ""
             }
            },
            "type": "scattergl"
           }
          ],
          "scattermapbox": [
           {
            "marker": {
             "colorbar": {
              "outlinewidth": 0,
              "ticks": ""
             }
            },
            "type": "scattermapbox"
           }
          ],
          "scatterpolar": [
           {
            "marker": {
             "colorbar": {
              "outlinewidth": 0,
              "ticks": ""
             }
            },
            "type": "scatterpolar"
           }
          ],
          "scatterpolargl": [
           {
            "marker": {
             "colorbar": {
              "outlinewidth": 0,
              "ticks": ""
             }
            },
            "type": "scatterpolargl"
           }
          ],
          "scatterternary": [
           {
            "marker": {
             "colorbar": {
              "outlinewidth": 0,
              "ticks": ""
             }
            },
            "type": "scatterternary"
           }
          ],
          "surface": [
           {
            "colorbar": {
             "outlinewidth": 0,
             "ticks": ""
            },
            "colorscale": [
             [
              0,
              "#0d0887"
             ],
             [
              0.1111111111111111,
              "#46039f"
             ],
             [
              0.2222222222222222,
              "#7201a8"
             ],
             [
              0.3333333333333333,
              "#9c179e"
             ],
             [
              0.4444444444444444,
              "#bd3786"
             ],
             [
              0.5555555555555556,
              "#d8576b"
             ],
             [
              0.6666666666666666,
              "#ed7953"
             ],
             [
              0.7777777777777778,
              "#fb9f3a"
             ],
             [
              0.8888888888888888,
              "#fdca26"
             ],
             [
              1,
              "#f0f921"
             ]
            ],
            "type": "surface"
           }
          ],
          "table": [
           {
            "cells": {
             "fill": {
              "color": "#EBF0F8"
             },
             "line": {
              "color": "white"
             }
            },
            "header": {
             "fill": {
              "color": "#C8D4E3"
             },
             "line": {
              "color": "white"
             }
            },
            "type": "table"
           }
          ]
         },
         "layout": {
          "annotationdefaults": {
           "arrowcolor": "#2a3f5f",
           "arrowhead": 0,
           "arrowwidth": 1
          },
          "autotypenumbers": "strict",
          "coloraxis": {
           "colorbar": {
            "outlinewidth": 0,
            "ticks": ""
           }
          },
          "colorscale": {
           "diverging": [
            [
             0,
             "#8e0152"
            ],
            [
             0.1,
             "#c51b7d"
            ],
            [
             0.2,
             "#de77ae"
            ],
            [
             0.3,
             "#f1b6da"
            ],
            [
             0.4,
             "#fde0ef"
            ],
            [
             0.5,
             "#f7f7f7"
            ],
            [
             0.6,
             "#e6f5d0"
            ],
            [
             0.7,
             "#b8e186"
            ],
            [
             0.8,
             "#7fbc41"
            ],
            [
             0.9,
             "#4d9221"
            ],
            [
             1,
             "#276419"
            ]
           ],
           "sequential": [
            [
             0,
             "#0d0887"
            ],
            [
             0.1111111111111111,
             "#46039f"
            ],
            [
             0.2222222222222222,
             "#7201a8"
            ],
            [
             0.3333333333333333,
             "#9c179e"
            ],
            [
             0.4444444444444444,
             "#bd3786"
            ],
            [
             0.5555555555555556,
             "#d8576b"
            ],
            [
             0.6666666666666666,
             "#ed7953"
            ],
            [
             0.7777777777777778,
             "#fb9f3a"
            ],
            [
             0.8888888888888888,
             "#fdca26"
            ],
            [
             1,
             "#f0f921"
            ]
           ],
           "sequentialminus": [
            [
             0,
             "#0d0887"
            ],
            [
             0.1111111111111111,
             "#46039f"
            ],
            [
             0.2222222222222222,
             "#7201a8"
            ],
            [
             0.3333333333333333,
             "#9c179e"
            ],
            [
             0.4444444444444444,
             "#bd3786"
            ],
            [
             0.5555555555555556,
             "#d8576b"
            ],
            [
             0.6666666666666666,
             "#ed7953"
            ],
            [
             0.7777777777777778,
             "#fb9f3a"
            ],
            [
             0.8888888888888888,
             "#fdca26"
            ],
            [
             1,
             "#f0f921"
            ]
           ]
          },
          "colorway": [
           "#636efa",
           "#EF553B",
           "#00cc96",
           "#ab63fa",
           "#FFA15A",
           "#19d3f3",
           "#FF6692",
           "#B6E880",
           "#FF97FF",
           "#FECB52"
          ],
          "font": {
           "color": "#2a3f5f"
          },
          "geo": {
           "bgcolor": "white",
           "lakecolor": "white",
           "landcolor": "#E5ECF6",
           "showlakes": true,
           "showland": true,
           "subunitcolor": "white"
          },
          "hoverlabel": {
           "align": "left"
          },
          "hovermode": "closest",
          "mapbox": {
           "style": "light"
          },
          "paper_bgcolor": "white",
          "plot_bgcolor": "#E5ECF6",
          "polar": {
           "angularaxis": {
            "gridcolor": "white",
            "linecolor": "white",
            "ticks": ""
           },
           "bgcolor": "#E5ECF6",
           "radialaxis": {
            "gridcolor": "white",
            "linecolor": "white",
            "ticks": ""
           }
          },
          "scene": {
           "xaxis": {
            "backgroundcolor": "#E5ECF6",
            "gridcolor": "white",
            "gridwidth": 2,
            "linecolor": "white",
            "showbackground": true,
            "ticks": "",
            "zerolinecolor": "white"
           },
           "yaxis": {
            "backgroundcolor": "#E5ECF6",
            "gridcolor": "white",
            "gridwidth": 2,
            "linecolor": "white",
            "showbackground": true,
            "ticks": "",
            "zerolinecolor": "white"
           },
           "zaxis": {
            "backgroundcolor": "#E5ECF6",
            "gridcolor": "white",
            "gridwidth": 2,
            "linecolor": "white",
            "showbackground": true,
            "ticks": "",
            "zerolinecolor": "white"
           }
          },
          "shapedefaults": {
           "line": {
            "color": "#2a3f5f"
           }
          },
          "ternary": {
           "aaxis": {
            "gridcolor": "white",
            "linecolor": "white",
            "ticks": ""
           },
           "baxis": {
            "gridcolor": "white",
            "linecolor": "white",
            "ticks": ""
           },
           "bgcolor": "#E5ECF6",
           "caxis": {
            "gridcolor": "white",
            "linecolor": "white",
            "ticks": ""
           }
          },
          "title": {
           "x": 0.05
          },
          "xaxis": {
           "automargin": true,
           "gridcolor": "white",
           "linecolor": "white",
           "ticks": "",
           "title": {
            "standoff": 15
           },
           "zerolinecolor": "white",
           "zerolinewidth": 2
          },
          "yaxis": {
           "automargin": true,
           "gridcolor": "white",
           "linecolor": "white",
           "ticks": "",
           "title": {
            "standoff": 15
           },
           "zerolinecolor": "white",
           "zerolinewidth": 2
          }
         }
        },
        "title": {
         "text": "3D Vector Plot with Evenly Spaced Vectors Along X-Axis"
        },
        "width": 1000
       }
      }
     },
     "metadata": {},
     "output_type": "display_data"
    }
   ],
   "source": [
    "# Define function to plot vectors from Excel file\n",
    "def plot_vectors_from_excel(file_path=\"vectors.xlsx\"):\n",
    "    # Read the Excel file\n",
    "    # Ensure the file exists and is in the correct format\n",
    "    try:\n",
    "        df = pd.read_excel(file_path, engine=\"openpyxl\")\n",
    "    except Exception as e:\n",
    "        print(f\"Error reading the Excel file: {e}\")\n",
    "        return\n",
    "\n",
    "    # Ensure required columns exist\n",
    "    # If not, print an error message and return\n",
    "    if not {\"X\", \"Y\", \"Z\"}.issubset(df.columns):\n",
    "        print(\"Error: Excel file must contain columns 'X', 'Y', and 'Z'.\")\n",
    "        return\n",
    "\n",
    "    # Create a 3D plot\n",
    "    fig = go.Figure()\n",
    "\n",
    "    # Set up the vectors\n",
    "    num_vectors = len(df)\n",
    "\n",
    "    # Adjust spacing between vectors\n",
    "    spacing = 1  \n",
    "\n",
    "    # Set up positions for vectors along the x-axis\n",
    "    x_positions = np.linspace(-num_vectors * spacing / 2, num_vectors * spacing / 2, num_vectors)\n",
    "\n",
    "    # Iterate over the rows of the DataFrame\n",
    "    # Each row contains the components of a vector\n",
    "    # We will plot each vector as a line and an arrowhead\n",
    "    # The colour of the vector will be based on the z-component\n",
    "    # The colour will be red for negative z-component and blue for positive z-component\n",
    "    # The magnitude of the z-component will determine the intensity of the colour\n",
    "    # The vectors will be evenly spaced along the x-axis\n",
    "    for i, row in enumerate(df.itertuples(index=False)):\n",
    "        # Set the starting point of the vector so that they are \n",
    "        # evenly spaced along the x-axis and are at y=0, z=0 \n",
    "        x0 = x_positions[i] \n",
    "        y0, z0 = 0, 0  \n",
    "\n",
    "        # Get the components of the vector\n",
    "        x_dir, y_dir, z_dir = row.X, row.Y, row.Z\n",
    "\n",
    "        # Compute magnitude for colour mapping\n",
    "        colour = f'rgb({int(255 * (z_dir + 1) / 2)}, 0, {int(255 * (1 - (z_dir + 1) / 2))})'\n",
    "\n",
    "        # Add vector line\n",
    "        fig.add_trace(go.Scatter3d(\n",
    "            x=[x0, x0 + x_dir],\n",
    "            y=[y0, y0 + y_dir],\n",
    "            z=[z0, z0 + z_dir],\n",
    "            mode='lines+markers',\n",
    "            line=dict(color=colour, width=6),\n",
    "            marker=dict(size=4, color=colour)\n",
    "        ))\n",
    "\n",
    "        # Add vector cone (arrowhead)\n",
    "        # The cone will be placed at the end of the vector\n",
    "        fig.add_trace(go.Cone(\n",
    "            x=[x0 + x_dir], y=[y0 + y_dir], z=[z0 + z_dir],\n",
    "            u=[x_dir], v=[y_dir], w=[z_dir],\n",
    "            colorscale=[[0, colour], [1, colour]],\n",
    "            showscale=False,\n",
    "            sizemode='absolute',\n",
    "            sizeref=0.2\n",
    "        ))\n",
    "\n",
    "    # Set 3D plot layout\n",
    "    # Set axis titles and ranges\n",
    "    # Set plot title\n",
    "    # Set plot width and height\n",
    "    # Show the plot\n",
    "    fig.update_layout(\n",
    "        scene=dict(\n",
    "            xaxis_title='X', yaxis_title='Y', zaxis_title='Z',\n",
    "            xaxis=dict(range=[-num_vectors * spacing / 2 - 5, num_vectors * spacing / 2 + 5]),\n",
    "            yaxis=dict(range=[-1, 1]),\n",
    "            zaxis=dict(range=[-1, 1])\n",
    "        ),\n",
    "        title=\"3D Vector Plot with Evenly Spaced Vectors Along X-Axis\",\n",
    "        width=1000,\n",
    "        height=800\n",
    "    )\n",
    "\n",
    "    fig.show()\n",
    "\n",
    "# Call function to plot vectors\n",
    "plot_vectors_from_excel()"
   ]
  }
 ],
 "metadata": {
  "kernelspec": {
   "display_name": "Python 3",
   "language": "python",
   "name": "python3"
  },
  "language_info": {
   "codemirror_mode": {
    "name": "ipython",
    "version": 3
   },
   "file_extension": ".py",
   "mimetype": "text/x-python",
   "name": "python",
   "nbconvert_exporter": "python",
   "pygments_lexer": "ipython3",
   "version": "3.11.9"
  }
 },
 "nbformat": 4,
 "nbformat_minor": 2
}
